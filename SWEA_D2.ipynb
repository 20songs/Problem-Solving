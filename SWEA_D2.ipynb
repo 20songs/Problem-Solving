{
  "nbformat": 4,
  "nbformat_minor": 0,
  "metadata": {
    "colab": {
      "name": "SWEA_D2.ipynb",
      "provenance": [],
      "collapsed_sections": []
    },
    "kernelspec": {
      "name": "python3",
      "display_name": "Python 3"
    }
  },
  "cells": [
    {
      "cell_type": "markdown",
      "metadata": {
        "id": "5mi5V6Ytm8NB",
        "colab_type": "text"
      },
      "source": [
        "## 1204. [S/W 문제해결 기본] 1일차 - 최빈수 구하기\n",
        "\n",
        "'''\n",
        "어느 고등학교에서 실시한 1000명의 수학 성적을 토대로 통계 자료를 만들려고 한다.\n",
        "\n",
        "이때, 이 학교에서는 최빈수를 이용하여 학생들의 평균 수준을 짐작하는데, 여기서 최빈수는 특정 자료에서 가장 여러 번 나타나는 값을 의미한다.\n",
        "\n",
        "다음과 같은 수 분포가 있으면,\n",
        "\n",
        "10, 8, 7, 2, 2, 4, 8, 8, 8, 9, 5, 5, 3\n",
        "\n",
        "최빈수는 8이 된다.\n",
        "\n",
        "최빈수를 출력하는 프로그램을 작성하여라 (단, 최빈수가 여러 개 일 때에는 가장 큰 점수를 출력하라).\n",
        "\n",
        "[제약 사항]\n",
        "\n",
        "학생의 수는 1000명이며, 각 학생의 점수는 0점 이상 100점 이하의 값이다.\n",
        " \n",
        "[입력]\n",
        "\n",
        "첫 번째 줄에 테스트 케이스의 수 T가 주어진다.\n",
        "\n",
        "각 테스트 케이스의 첫 줄에는 테스트 케이스의 번호가 주어지고 그 다음 줄부터는 점수가 주어진다.\n",
        "\n",
        "[출력]\n",
        "\n",
        "-# 부호와 함께 테스트 케이스의 번호를 출력하고, 공백 문자 후 테스트 케이스에 대한 답을 출력한다.\n",
        "'''"
      ]
    },
    {
      "cell_type": "markdown",
      "metadata": {
        "id": "Q3lN6vDinTs-",
        "colab_type": "text"
      },
      "source": [
        "입력\n",
        "\n",
        "\n",
        "```\n",
        "10\n",
        "1\n",
        "41 85 72 38 80 69 65 68 96 22 49 67 51 61 63 87 66 24 80 83 71 60 64 52 90 60 49 31 23 99 94 11 25 24 51 15 13 39 67 97 19 76 12 33 99 18 92 35 74 0 95 71 39 33 39 32 37 45 57 71 95 5 71 24 86 8 51 54 74 24 75 70 33 63 29 99 58 94 52 13 35 99 46 57 71 23 17 3 94 48 77 18 83 11 83 25 59 62 2 78 86 7 94 65 80 32 39 84 60 65 72 61 58 84 8 72 12 19 47 49 49 59 71 52 34 22 21 20 92 33 80 39 74 9 28 97 100 93 29 25 4 66 79 81 98 21 91 62 82 4 59 100 34 1 51 80 92 69 77 39 38 97 51 34 35 19 22 1 67 9 90 31 82 11 51 84 78 70 74 42 100 88 53 80 57 62 32 51 48 63 92 46 4 61 31 98 69 52 88 20 68 41 48 79 97 98 56 44 73 3 63 100 87 87 41 79 64 83 63 1 21 72 24 9 75 51 25 53 77 0 52 30 96 93 32 89 70 89 55 71 79 40 10 64 80 30 19 62 67 98 42 8 32 57 27 22 1 38 89 52 74 43 8 2 65 82 20 67 22 43 22 95 16 48 25 6 75 86 96 3 85 43 69 93 4 61 53 81 43 84 20 15 34 22 35 26 28 33 67 19 79 19 45 8 13 51 0 86 68 18 47 82 3 16 80 0 18 39 22 5 26 65 70 21 92 66 65 14 6 46 46 21 32 80 35 86 6 67 29 42 71 14 77 55 3 1 14 38 71 82 41 65 12 5 77 3 67 22 59 40 81 48 63 63 25 45 32 78 83 26 96 18 99 45 56 31 30 45 47 80 1 7 81 18 1 90 15 71 22 69 44 18 31 60 16 93 13 17 44 97 98 51 46 42 22 47 72 97 24 52 55 59 25 100 28 5 14 76 32 41 97 61 32 20 0 2 8 41 52 77 35 22 98 78 92 68 29 82 33 28 16 5 9 21 13 26 39 59 69 10 42 4 13 80 34 42 100 44 32 70 15 32 8 83 10 23 73 8 53 7 21 10 52 14 82 28 24 33 94 59 4 17 73 53 85 31 100 74 74 12 72 38 34 14 22 53 0 30 95 3 52 79 41 36 81 25 24 67 48 95 44 7 96 77 90 48 92 45 78 93 95 38 71 4 83 79 64 89 0 76 81 34 66 1 13 58 4 40 5 24 17 6 65 13 13 76 3 20 8 36 12 60 37 42 53 87 10 65 42 25 47 41 33 71 69 94 24 12 92 11 71 3 82 91 90 20 95 44 76 60 34 95 49 40 89 4 45 27 9 34 82 59 2 20 68 22 29 10 1 23 19 47 16 76 47 49 90 94 10 18 55 69 14 26 59 77 73 8 21 72 1 74 76 51 94 44 24 98 71 77 59 9 12 49 38 72 22 55 35 61 16 48 41 21 67 74 92 4 7 85 34 92 39 96 42 26 1 1 4 64 33 96 62 23 67 76 26 47 32 73 82 30 14 61 21 92 40 4 2 38 76 64 8 14 3 49 71 31 38 86 98 17 15 98 32 55 69 46 61 3 44 67 50 44 76 0 45 23 25 11 82 99 11 39 50 40 21 52 17 60 44 90 44 6 16 38 3 41 43 56 26 24 0 9 90 36 50 13 42 88 87 66 32 28 73 94 52 11 35 47 9 87 37 57 15 56 38 95 6 43 23 30 84 39 88 69 5 34 81 93 86 2 77 10 28 30 97 68 14 12 88 1 100 35 73 30 2 43 11 41 58 82 6 84 71 16 18 67 41 100 92 78 57 7 35 69 56 76 13 93 26 26 38 21 96 7 88 2 60 17 54 95 26 2 0 21 87 11 96 36 83 88 31 24 24 62 14 88 84 39 22 17 84 96 1 78 91 53 9 35 75 87 100 33 80 42 7 20 50 65 81 92 14 45 96 34 6 20 86 51 4 19 70 91 13 0 42 70 43 15 47 14 96 72 41 91 11 72 7 92 12 16 51 13 86 40 50 43 55 26 7 1 70 18 71 99 49 55 94 78 40 59 20 96 34 6 28 85 42 70 62 63 32 34 97 80 49 47 50 73 85 63 20 29 0 19 91 84 58 55 33 4 68 55 12 38 49 9 13 99 4 35 26 5 42 29 98 20 95 77 36 63 41 42 45 81 40 53 60 5 55 9 13 34 6 52 28 35 33 29 21 67 57 61 21 41 95 54 50 19 81 75 67 73 77 47 40 83 16 28\n",
        "```\n",
        "\n",
        "출력\n",
        "```\n",
        "#1 71\n",
        "#2 76\n",
        "......\n",
        "```"
      ]
    },
    {
      "cell_type": "code",
      "metadata": {
        "id": "K3gZXV6im2oC",
        "colab_type": "code",
        "colab": {
          "base_uri": "https://localhost:8080/",
          "height": 109
        },
        "outputId": "838abb7a-d8af-4f73-81e9-df1eafb9693d"
      },
      "source": [
        "T = int(input())\n",
        "\n",
        "for t in range(1,T+1):\n",
        "  n = int(input())\n",
        "  scores = list(map(int,input().split()))\n",
        "\n",
        "  score_dict = {}\n",
        "  for score in scores:\n",
        "    score_dict[score] = scores.count(score)\n",
        "  \n",
        "  sorted_tuples = sorted(score_dict.items(),reverse=True,key = lambda x : (x[1],x[0]))\n",
        "\n",
        "  print(f'#{t}',sorted_tuples[0][0])"
      ],
      "execution_count": null,
      "outputs": [
        {
          "output_type": "stream",
          "text": [
            "1\n",
            "1\n",
            "41 85 72 38 80 69 65 68 96 22 49 67 51 61 63 87 66 24 80 83 71 60 64 52 90 60 49 31 23 99 94 11 25 24 51 15 13 39 67 97 19 76 12 33 99 18 92 35 74 0 95 71 39 33 39 32 37 45 57 71 95 5 71 24 86 8 51 54 74 24 75 70 33 63 29 99 58 94 52 13 35 99 46 57 71 23 17 3 94 48 77 18 83 11 83 25 59 62 2 78 86 7 94 65 80 32 39 84 60 65 72 61 58 84 8 72 12 19 47 49 49 59 71 52 34 22 21 20 92 33 80 39 74 9 28 97 100 93 29 25 4 66 79 81 98 21 91 62 82 4 59 100 34 1 51 80 92 69 77 39 38 97 51 34 35 19 22 1 67 9 90 31 82 11 51 84 78 70 74 42 100 88 53 80 57 62 32 51 48 63 92 46 4 61 31 98 69 52 88 20 68 41 48 79 97 98 56 44 73 3 63 100 87 87 41 79 64 83 63 1 21 72 24 9 75 51 25 53 77 0 52 30 96 93 32 89 70 89 55 71 79 40 10 64 80 30 19 62 67 98 42 8 32 57 27 22 1 38 89 52 74 43 8 2 65 82 20 67 22 43 22 95 16 48 25 6 75 86 96 3 85 43 69 93 4 61 53 81 43 84 20 15 34 22 35 26 28 33 67 19 79 19 45 8 13 51 0 86 68 18 47 82 3 16 80 0 18 39 22 5 26 65 70 21 92 66 65 14 6 46 46 21 32 80 35 86 6 67 29 42 71 14 77 55 3 1 14 38 71 82 41 65 12 5 77 3 67 22 59 40 81 48 63 63 25 45 32 78 83 26 96 18 99 45 56 31 30 45 47 80 1 7 81 18 1 90 15 71 22 69 44 18 31 60 16 93 13 17 44 97 98 51 46 42 22 47 72 97 24 52 55 59 25 100 28 5 14 76 32 41 97 61 32 20 0 2 8 41 52 77 35 22 98 78 92 68 29 82 33 28 16 5 9 21 13 26 39 59 69 10 42 4 13 80 34 42 100 44 32 70 15 32 8 83 10 23 73 8 53 7 21 10 52 14 82 28 24 33 94 59 4 17 73 53 85 31 100 74 74 12 72 38 34 14 22 53 0 30 95 3 52 79 41 36 81 25 24 67 48 95 44 7 96 77 90 48 92 45 78 93 95 38 71 4 83 79 64 89 0 76 81 34 66 1 13 58 4 40 5 24 17 6 65 13 13 76 3 20 8 36 12 60 37 42 53 87 10 65 42 25 47 41 33 71 69 94 24 12 92 11 71 3 82 91 90 20 95 44 76 60 34 95 49 40 89 4 45 27 9 34 82 59 2 20 68 22 29 10 1 23 19 47 16 76 47 49 90 94 10 18 55 69 14 26 59 77 73 8 21 72 1 74 76 51 94 44 24 98 71 77 59 9 12 49 38 72 22 55 35 61 16 48 41 21 67 74 92 4 7 85 34 92 39 96 42 26 1 1 4 64 33 96 62 23 67 76 26 47 32 73 82 30 14 61 21 92 40 4 2 38 76 64 8 14 3 49 71 31 38 86 98 17 15 98 32 55 69 46 61 3 44 67 50 44 76 0 45 23 25 11 82 99 11 39 50 40 21 52 17 60 44 90 44 6 16 38 3 41 43 56 26 24 0 9 90 36 50 13 42 88 87 66 32 28 73 94 52 11 35 47 9 87 37 57 15 56 38 95 6 43 23 30 84 39 88 69 5 34 81 93 86 2 77 10 28 30 97 68 14 12 88 1 100 35 73 30 2 43 11 41 58 82 6 84 71 16 18 67 41 100 92 78 57 7 35 69 56 76 13 93 26 26 38 21 96 7 88 2 60 17 54 95 26 2 0 21 87 11 96 36 83 88 31 24 24 62 14 88 84 39 22 17 84 96 1 78 91 53 9 35 75 87 100 33 80 42 7 20 50 65 81 92 14 45 96 34 6 20 86 51 4 19 70 91 13 0 42 70 43 15 47 14 96 72 41 91 11 72 7 92 12 16 51 13 86 40 50 43 55 26 7 1 70 18 71 99 49 55 94 78 40 59 20 96 34 6 28 85 42 70 62 63 32 34 97 80 49 47 50 73 85 63 20 29 0 19 91 84 58 55 33 4 68 55 12 38 49 9 13 99 4 35 26 5 42 29 98 20 95 77 36 63 41 42 45 81 40 53 60 5 55 9 13 34 6 52 28 35 33 29 21 67 57 61 21 41 95 54 50 19 81 75 67 73 77 47 40 83 16 28\n",
            "#1 71\n"
          ],
          "name": "stdout"
        }
      ]
    },
    {
      "cell_type": "code",
      "metadata": {
        "id": "K4ffmWdND3LS",
        "colab_type": "code",
        "colab": {
          "base_uri": "https://localhost:8080/",
          "height": 109
        },
        "outputId": "564bc6a5-9f33-4527-e85b-56621771fa84"
      },
      "source": [
        "T = int(input())\n",
        "\n",
        "for t in range(1,T+1):\n",
        "  n = int(input())\n",
        "  scores = list(map(int,input().split()))\n",
        "\n",
        "  score_dict = {}\n",
        "  for score in scores:\n",
        "    score_dict[score] = scores.count(score)\n",
        "\n",
        "  most_val = 0\n",
        "  most_key = []\n",
        "  for key, value in score_dict.items():\n",
        "    if value > most_val:\n",
        "      most_val = value\n",
        "      most_key= []\n",
        "      most_key.append(key)\n",
        "    elif value == most_val:\n",
        "      most_key.append(key)\n",
        "    else:\n",
        "      pass\n",
        "  print(f'#{t}',sorted(most_key)[-1])"
      ],
      "execution_count": null,
      "outputs": [
        {
          "output_type": "stream",
          "text": [
            "1\n",
            "1\n",
            "41 85 72 38 80 69 65 68 96 22 49 67 51 61 63 87 66 24 80 83 71 60 64 52 90 60 49 31 23 99 94 11 25 24 51 15 13 39 67 97 19 76 12 33 99 18 92 35 74 0 95 71 39 33 39 32 37 45 57 71 95 5 71 24 86 8 51 54 74 24 75 70 33 63 29 99 58 94 52 13 35 99 46 57 71 23 17 3 94 48 77 18 83 11 83 25 59 62 2 78 86 7 94 65 80 32 39 84 60 65 72 61 58 84 8 72 12 19 47 49 49 59 71 52 34 22 21 20 92 33 80 39 74 9 28 97 100 93 29 25 4 66 79 81 98 21 91 62 82 4 59 100 34 1 51 80 92 69 77 39 38 97 51 34 35 19 22 1 67 9 90 31 82 11 51 84 78 70 74 42 100 88 53 80 57 62 32 51 48 63 92 46 4 61 31 98 69 52 88 20 68 41 48 79 97 98 56 44 73 3 63 100 87 87 41 79 64 83 63 1 21 72 24 9 75 51 25 53 77 0 52 30 96 93 32 89 70 89 55 71 79 40 10 64 80 30 19 62 67 98 42 8 32 57 27 22 1 38 89 52 74 43 8 2 65 82 20 67 22 43 22 95 16 48 25 6 75 86 96 3 85 43 69 93 4 61 53 81 43 84 20 15 34 22 35 26 28 33 67 19 79 19 45 8 13 51 0 86 68 18 47 82 3 16 80 0 18 39 22 5 26 65 70 21 92 66 65 14 6 46 46 21 32 80 35 86 6 67 29 42 71 14 77 55 3 1 14 38 71 82 41 65 12 5 77 3 67 22 59 40 81 48 63 63 25 45 32 78 83 26 96 18 99 45 56 31 30 45 47 80 1 7 81 18 1 90 15 71 22 69 44 18 31 60 16 93 13 17 44 97 98 51 46 42 22 47 72 97 24 52 55 59 25 100 28 5 14 76 32 41 97 61 32 20 0 2 8 41 52 77 35 22 98 78 92 68 29 82 33 28 16 5 9 21 13 26 39 59 69 10 42 4 13 80 34 42 100 44 32 70 15 32 8 83 10 23 73 8 53 7 21 10 52 14 82 28 24 33 94 59 4 17 73 53 85 31 100 74 74 12 72 38 34 14 22 53 0 30 95 3 52 79 41 36 81 25 24 67 48 95 44 7 96 77 90 48 92 45 78 93 95 38 71 4 83 79 64 89 0 76 81 34 66 1 13 58 4 40 5 24 17 6 65 13 13 76 3 20 8 36 12 60 37 42 53 87 10 65 42 25 47 41 33 71 69 94 24 12 92 11 71 3 82 91 90 20 95 44 76 60 34 95 49 40 89 4 45 27 9 34 82 59 2 20 68 22 29 10 1 23 19 47 16 76 47 49 90 94 10 18 55 69 14 26 59 77 73 8 21 72 1 74 76 51 94 44 24 98 71 77 59 9 12 49 38 72 22 55 35 61 16 48 41 21 67 74 92 4 7 85 34 92 39 96 42 26 1 1 4 64 33 96 62 23 67 76 26 47 32 73 82 30 14 61 21 92 40 4 2 38 76 64 8 14 3 49 71 31 38 86 98 17 15 98 32 55 69 46 61 3 44 67 50 44 76 0 45 23 25 11 82 99 11 39 50 40 21 52 17 60 44 90 44 6 16 38 3 41 43 56 26 24 0 9 90 36 50 13 42 88 87 66 32 28 73 94 52 11 35 47 9 87 37 57 15 56 38 95 6 43 23 30 84 39 88 69 5 34 81 93 86 2 77 10 28 30 97 68 14 12 88 1 100 35 73 30 2 43 11 41 58 82 6 84 71 16 18 67 41 100 92 78 57 7 35 69 56 76 13 93 26 26 38 21 96 7 88 2 60 17 54 95 26 2 0 21 87 11 96 36 83 88 31 24 24 62 14 88 84 39 22 17 84 96 1 78 91 53 9 35 75 87 100 33 80 42 7 20 50 65 81 92 14 45 96 34 6 20 86 51 4 19 70 91 13 0 42 70 43 15 47 14 96 72 41 91 11 72 7 92 12 16 51 13 86 40 50 43 55 26 7 1 70 18 71 99 49 55 94 78 40 59 20 96 34 6 28 85 42 70 62 63 32 34 97 80 49 47 50 73 85 63 20 29 0 19 91 84 58 55 33 4 68 55 12 38 49 9 13 99 4 35 26 5 42 29 98 20 95 77 36 63 41 42 45 81 40 53 60 5 55 9 13 34 6 52 28 35 33 29 21 67 57 61 21 41 95 54 50 19 81 75 67 73 77 47 40 83 16 28\n",
            "71\n"
          ],
          "name": "stdout"
        }
      ]
    },
    {
      "cell_type": "markdown",
      "metadata": {
        "id": "fYVNIHTko5wX",
        "colab_type": "text"
      },
      "source": [
        "## 1284. 수도 요금 경쟁\n",
        "\n",
        "'''\n",
        "삼성전자에 입사한 종민이는 회사 근처로 이사를 하게 되었다.\n",
        "\n",
        "그런데 집의 위치가 두 수도 회사 A, B 중간에 위치하기에 원하는 수도 회사를 선택할 수 있게 되었는데, 두 회사 중 더 적게 수도 요금을 부담해도 되는 회사를 고르려고 한다.\n",
        " \n",
        "종민이가 알아본 결과 두 회사의 수도 요금은 한 달 동안 사용한 수도의 양에 따라 다음과 같이 정해진다.\n",
        " \n",
        "A사 : 1리터당 P원의 돈을 내야 한다.\n",
        "\n",
        "B사 : 기본 요금이 Q원이고, 월간 사용량이 R리터 이하인 경우 요금은 기본 요금만 청구된다. 하지만 R 리터보다 많은 양을 사용한 경우 초과량에 대해 1리터당 S원의 요금을 더 내야 한다.\n",
        " \n",
        "![image.png](data:image/png;base64,iVBORw0KGgoAAAANSUhEUgAAAmQAAACxCAYAAABqfaEJAAAgAElEQVR4Ae2dB3QUVd+HhyQESAgIUhRFLFhRBKQX6fAKNmxYELAiFnpRVKoUSaSXDxvyqryioiJFhCSUBELoJUACCYSEllBCes/vO3c2u5ndzCZbszub357zPzszO3PnzjN3dp+9984dCXyRAAmQAAmQAAmQAAm4lIDk0r1z5yRAAiRAAiRAAiRAAqCQsRCQAAmQAAmQAAmQgIsJUMhcfAK4exIgARIgARIgARKgkLEMkAAJkAAJkAAJkICLCVDIXHwCuHsSIAESIAESIAESoJCxDJAACZAACZAACZCAiwlQyFx8Arh7EiABEiABEiABEqCQsQyQAAmQAAmQAAmQgIsJUMhcfAK4exIgARIgARIgARKgkLEMkAAJkAAJkAAJkICLCVDIXHwCuHsSIAESIAESIAESqFRCVlRUhMLCQoj3ig6x34KCAuTn55sNsQ5fJEACJEACJEAClY9ApRGyvLw8JCYmIiIiArGxsYiLi6vQEPv97bffsHz5cixbtswoxDIRGzduxJUrV2RZrHxFkUdMAiRAAiRAApWXQKURsuvXr2PHjh0IDQ1FVFRUhcfu3buxZcsWfP/991i6dKmRkCkFTUiZqEnjiwRIgARIgARIoPIQqDRCdu3aNWzfvl2Wsm3btsEVIfb/448/mpUxIWarV6+WmzQrTxHkkZIACZAACZAACVQaIRM1ZEKI9FKmn67o959++qlMIfv5558pZLwuSYAESIAESKCSEag0QqavIXOUgIkaNrW0zC3Xr1uekInPRcd/vkiABEiABEiABCoPAQpZca2ZXpic+S76r/3www+qNWT6fmVr165lH7LKc/3xSEmABEiABEhAJlBphCw3NxfR0dHYuXOnas2WpSImbgwwF2WlIfa7bt061bss9Z36xV2Y4k5QMSQHXyRAAiRAAiRAApWHQKURMnFKxd2LCQkJ2LVrF8LDw20KIVbmIiwsTE5bLf2tW7dC9A/77rvvVGPVqlXynZ+Vp+jxSEmABEiABEiABPQEKpWQiYMWtU85OTkQNWbWhpA5cRfkihUr8PXXX8shpvXx77//IjU1VTXdjIwMpKenQ7yrRXZ2tv6c8J0ESIAESIAESKCSEah0QmbP+b1w4YLRsBWi35c+RLOjELKsrCx7dsFtScC9CKScwS/fLcDUqVOx41zFZi3z+iH8MHWqvG+xf/PxAw5dz6zYzHFvJEACJOBgAhQyK4CKUfQ3bdqE33//XTXEaPyi9o0vEnAugSv4Y1Rv9OjRAz1eGo/NJy/DqNfh1XCM7tsbPfq/gq/+Ogb1uteLWP52D10aIh3TeH81ksRBnA3Gsx3uhCRJmB5my1FlIHLlJ+jfx2Qfs7aWm1hy7HfoKknyvsX+zcZtz2NTYkq56Vm7QvrJnzDElIuYf3UK9lxMtTY5rk8CJEACZRKgkJWJx/jDq1evIjg4GH///bdq7N+/X26uNN6KcyTgIALXT+OLIe3g7e0NryrFgnJ7b6yMPGcsZBf+RLdqPpAC7sS7y8KhXncUh7HNy5CcdnOQILJth5ClXzyOjx4Xea1SWqaqeMG7bhO891NUGXCKUFhQIPf9FP0/TSM9KRaju0qQmr6C0As3ykjHto+u7/kC96uKYBV4eXljbLBt6XIrEiABElAjQCFTo2JmGYXMDBgurhgC109jxuA2kPxuxWOdm+FmIQv2Clmj7lgRfgZmH2tvq5BlX8KU7hIkv7p4oMX72HotQ8HoNJY92w/31pdQ9+En8ev+JPP7V2xlOpl19SzGdKsAIavVCI+164guXbqgY+tH0KC2ryyYNesMQ0Suaa44TwIkQAK2EaCQWcFNCJm4W1IMX6EWyhoyDl1hBViuahmBrKvY9vtyfLbwbyQXbsLTFSxkPd+ZgRkzZuDnbSeRV97jVg/Oxq2ShHodX8G/0Wmqx7d54kOQpPp4ff5mpNswFrJByFq+gwOX01X3Ybow92oc1q6cjxkzvsHBclo5DTVknd7HsQu6Y8i9egbLR3fHTTUk1KjVHKtPme6B8yRAAiRgGwEKmQm3ixcv4siRI4Y4fPiwPC3e9+3bJz8DUzRbhoSEyM2XYlofYtiLgwcPltr26NGjOH78OG7ccHyzikn2OVtpCPxT4UKm78PV+7O1yMgrB3TwWLkW6aH+w7Hvovq60V+/JK/TY8LPSFHv6Ka+YfHStMt78MbDEqSuoxF3Rb1h1jiBXEStn4M2cg1XAN5ce8n4Y5M5NSEDsrBr6Ru4raaEagF1sfyAyUacJQESIAEbCVDIFODy8vIQExMjy5MYRPbEiRMQkiUGfN29ezeOHTsmDy4rPlMLsb6QNjEiv3iEkpjWrxcVFYXz589z0FcFb07aQ8BBQib6cvlUha+vb6loO2uXUR+yKdt0Q8XkF5ht4Cw5oLgVeFSSUOWh/lizX018zuKz1l6QpAcw/qc9RjceHFk5FLfWKZ2fUnms6qPrS+fljapVfeFb5za8uepoSR5UplJPbsZL7RtCklpgRZzRrRCl1lYTsozY7RjS9TZUkST41e6D9WZks1RiXEACJEAC5RCgkBUDEh2GL1++jLi4OKM4e/Ys9u7dC/Fu+pl+/syZM0afiXWFiKltk5am3nxTznnixyRgQsBeITuPRa93QIcO5mPIyiNGQmbtXZa/T2iBW2qJGwdaY9qGrfKfGvHHZvfuVXjt5lqQfHzx4ICxiDxnXLt1ev1U/Ke7+XyZzXOPJzBtw2kTTrbPGoRMrWO/fyN0XbDX9sS5JQmQAAmYEKCQFQMRQnbp0iUjsRLCJWTr1KlTpZbrZcz0XawvIjY2VnUbMXAsXyRgPwF7hczCHNjaqR9AbloiFg9rhZvUhEaSENDoCaw4eNnCjFT8auaE7LaWvfFB4CZcq/gscY8kQAIeTIBCVnxyhZAlJSWpSpSpdFkzr6w9E9OsIfPgq6lCD83xQrZuxhN44gmTGDICS37+Ux5/7/R1aw8wHduXfYB7JAn3DZ4vpyHG8Vs94zXU9vPB7fd/jmPWJlmB6xuErNmTWP7TWkP+I6LikW3DTQgVmHXuigRIQIMEKGTFJ60sITNX26UmZuWtyxoyDV4lbpllxwnZpQ2fol6dAPh6q4xL5uWNatVr4PHAQzZQKBGyNjMiDNtf+mcy6tfyLVfIrsStQh8/P/iVG32x6swVQ/qOmjAImeIuS0elzXRIgARIwJQAhayYiBimQozEr5QsUaN1+vRpuYO+Wn8w5br6abGN6D8m7so0rR0T83y0kmkR5LzFBLIu4IfR/VDbTBPgAx3mIFokph8YVm29R5/HhqPJhl0WnNqEfq1vhyT5o+vA73HW8ImYyMDeHz9Dq9p+qCI1w7Lj1g66ZZ+QGUbqr3ULHm35GNq0aWMUj7VsjoYBQiK74vs4S4SsEMkHfsfTzetCku5H4OGyn6pBITMqDJwhARJwMgEKmQKweMC3uBNSDFGhH/oiMjJSFrIDBw4Yhr8QslVW7Nq1S747UwyBoV9PSFpycrI82rhil5wkAcsJOEHIUg6sRo9mdSBJ7bBaHprfJDspB/Fxr0fgI0kY/JPaCsbrpyYcwv++CURgoIiZGP58J3kA28Z9PypeFogpb/dGzereqF2/F8bK6+nW/zY80Sgxg5B1G4tz10o/I9YwDpnFQpaP2OCleLyRHySpAUZtKbsXGIXM6HRwhgRIwMkEKGQmgMWzKMUAsOfOnZNlSgwEKx4aLmLz5s0WhX59MfSFuCEgPj4eKSkpyM9nxxMT3Jy1hkBBNhKiIvGPmUd3hYadhjw8avYl7NqwXvXxXn9v34fLqSU1Q3nnd+DdTk3hJd2E/sPWwFiJMnF47Sx0rBeAKtJ9mH+otBSZZj9+2xJ0vlul6VOtts5k2b2fbTdKzvFCBuSnJ+NA+L/4++8dMLm502jfYibv+imECtbhR5HGTmOl+HABCZCAYwlQyMzwLCwslIet2Lhxo+qo/Goj9ZsuE+ORicFgOWq/Gchc7HoCRQU4+9to+FXzhpd3NdSsVQu1DBEAv+q+8JIkvLrqPPIsGH6sMD8XmempEH0lrY30HOPh/w1C5uOLmgEBinzp8hgQUBO+PtY0WboeN3NAAiRAAuYIUMhUyIi7LRMSEuQmSmUNmb7my9J3MaCs6OSfmJgIMegsXyTgzgR+GdsSLVuaxIujERp91SXZvp74F94yzY/q/NtYd76c5yC55Ai4UxIgARKwnACFTIXVoUOH5NH5d+zYAXtDSJmI9PR01pSpsOYiEiABEiABEiABgEKmUgr0QqaXKUe8Z2RkqOyJi0iABEiABEiABEiAQqZaBihkqli4kARIgARIgARIwEkEWEOmAtYdhSzn2lUwtMmgkP0HVa4yLiIBEiABElASoJApaRRPu6OQxSxbAoY2GWRdvKhSyriIBEiABEiABEoIUMhKWBim3E3IxGOdKGPalDFx3ihkhkuLEyRAAiRAAmYIUMhUwLiTkIkxzCIiIihkGq4hpJCpXGRcRAIkQAIkYESAQmaEQzfjTkImchQWFkYho5CplFQuIgESIAES8BQCFDKVM0kh027zoDs27bKGTOUi4yISIAESIAEjAh4nZI54TBGFjELmSLGjkBl953CGBEiABEhAhYBHCFlmZqb8mKODBw8iKioKQqhEv6vLly9bPTq+EDp3EDIxsv/u3buxa9cueaR/RwoC06pY4aSQqXzzcBEJkAAJkIARAc0LmXgIuOhjtX//fggxE0Illp06dQqHDx+GLSPki+3EI5OUI/Rv27ZNng8PD5dFSQifPoQ4idi5cyfEevp1ldtbm4+0tDSj/VOiKlaiHMmbQmb0ncMZEiABEiABFQKaFzLxIPDQ0FBZyFJSUmQpE7VLMTExshiJWjNrXkLq9u3bZyRDQqyEcJ08eRJXrlyRJS8/Px9iOAoRubm5uHHjBs6dOydvK/KjlDExff78easeME4h066AmcochcyaK5DrkgAJkEDlJKBZIRM1YUKKRE2YXn4iIyNx4MABWc5EDZeoqRJNfllZWeWGqMFKTEyUmyuVtWMhISFyeqmpqfL+yiomomZOCJ1oKg0ODjbkSy90ojlVCJ0l+RHr6Y9LvJv+yHNeO8JGISvrquFnJEACJEACgoCmhExImBAeUSt2/PhxWb5EE6JSXNSm9U2KZb0LcRNNjqbbC7ESzaGWvkQexWvr1q1yWsrmSyF6Ir9iX2XlRXxmelwUMO0ImOm5opBZevVwPRIgARKovATcUsj0UiPe8/LykJ2dLTcJiiZDISpKyTEVKP28spZLiJYlod9W+S72JWrJRA2ZqNkSzZP65kpRI6ZsthT5FOucPXvW4jya5ku5b+W06Y98pZtfuhiHAmciePpU7J63UFM1hhSyyvsFyyMnARIgAUsJuKWQ6TMv+oSJmjDRaV8pJ9ZMi/5com+XaI4sK06fPm3olK9MXy9/QspEWqJZ9MiRI3IfNdFcKvqqnThxQq5FE3Il1tNvo0xHOS3SEbVksbGxRnkS+RQ3FCjX1U9rUsAWzMbPH76N2a8PQuCbb2FLUHm1XPOwdeyHCHp9EOZPnGUsXYuCMK/P/ZAkCU+8+pnxZ24+aCyFTH9F850ESIAESMAcAbcUMlEDFR0dbehcr6zt0guKpe9CkCx5iT5kQrbKkynxuRAqtShvW32eRZ6OHTtm1Mlf1AaKuHTpUqk7PMV22hOyRQgb/zo6NawuS5RP9QC8PvhTHC1TnmZibqeHECBJaNB7hPExU8gsKcZchwRIgARIQKME3E7IRLOf6Pyulxd734U4ifTKC/3YY+VJVXmfW5pfIZmiNkyZLyFpe/bsUT12zQnZ4iB893x7NPCScG+jWyFJVdHisWeweX5ZtWQUMo1+jzDbJEACJEACdhJwGyHT9xcTw1RYKjWWric65pcXotbK0vTKWk8Im6XSJvapzJeYN7et1oTsWNBUfPRoXUhet2D0gC6oIUm46faHseiTLxFttpbMM4UsNS4O6ZcvOT0ykpOQn51t51cCNycBEiABEnAFAbcRMjGOlzNkrCx50tJnWhOy8PFP4R5Jgv9dj+OPLyfgzZslSFItPPv8+zi4xEwt2eLpmN7+fvh7WJPlnsC5WNqujdPju149cezH/yI1JppBBiwDLAMsAxVQBvLS0hzmbm4hZKLPmBg/zJ6+YlqSK1vyqi0h+xKBbetBkqqjU58hiFy4GGuevlPuS1b//p74a+584/5h+hqzuR/jjUdug7ckoW7TF7Fdv1y8K/qQNb6nJV7s1BHvPvsyNgeakTvlti6e3jZmlNNlTAjfN127IGzCeHW2LmagrfLr/mWKPHmOWAbcowykxcVpX8hEE6X+debMGYc0F9oiOlrZRlMX38w30NpHguTfGCOGfYKoZUuwZ/JAPCpJkLxvxZgxJndQFsvC7o/fRPdG3rK4+dVsiMDJigtOIWTiTksRjZu2wo9fKNZxU+mgkLn/OdLU9eWm5ZwMWc4rYxnwCCHTy5joyK4VKXJlPrVT0Bdi44vNZGG6qXEzBI6ejLDZMxH8+Xi8fLdOpO7rMRzHTH5UohfMwaxud0OSvFCtqjck7+ro3OdtRCxerKvxUQiZ1oa9oJDxh0o71y/PFc8Vy4A1ZcBjhEwMrKr23Eh7xcdcx3hr0nVEGtbsr7x1rSkgLl03aCSevMlfFjJ9TVbp97vw1ZfGF/2mD/vhsVoS/Oo+gHHP9cD9/hL8b74Lkz6Ygqilxk2WFDL1/mhssjQuUy69Dkz+cDAvPDcsA55ZBjxCyESTpXjmoxh539l9x0T65UV5QmTP56bHV15eTNcX+9bKxbxzeB80qKFrdiwtYroaMrG83cDJxcf0FX55rS/aN5AgBTTAa6+MwKFFQfhxwCO4WaqKO5o8iMmjZxv1IdOakO2ZO6dC+pB916sHjv7wA24cj2KQAcsAywDLQAWUgbzUVH2Dn93vLuvULx4xpB+V3hm1USJNZ6Rrj5iJbdVky5I0NSFk86dgUrt7UL2KhIBaD2Dm2M/xzxRFfDwcQx+8Db5iCIyG7bF6xlRM794St1X3huTrh+4DPsS+BbrHIp2YPwOBfZqjjiShZq16eHnoZ5odqf/g1ysqRMi+/08fxFo4ELLd3xxMgARIgARIwKEEXCJkonYsPj7eSE5sFRVLZGbdunUoL9avXy8/9kik50yR27x5c7l5EXndsGGDUd869xeyxdg76W10b6xrrryn/1iVWr2v8NNzbVCnahVUrVELw9+bgZPLvsT8Tnfg2Te+UFl/Hn4e2BnD3pmq6RoyPjrJod9ZTIwESIAEPJKAS4RMPJBbDHNhiUyVtc7evXsRERFRZjri+ZKin5olIdJyphiKvIiR+C3Ji+mI/e4vZAuwedTrGNyqFZ5o1QrzPjfTX+CLkRjUuR2eaNUWIwaOQKSlfW003KmfQuaR3508KBIgARJwKAGXCFleXp5d4iOkSTxySAwmKx7uXZa07d69W35GpKiVKyuEJF6/ft2i51mWtT+1z/Q1buKO0szMzDLzoc9jamqq0XG5v5CZETBLhau89ShkDr3wmRgJkAAJkIB7EXCZkOnFZevWrfKDuvXzlryHhYXJD+YW8nLu3LkymxhFTZOlL5FeUlKSLGWW5MOadYSMpVkxoq9YV5k+hSxIs33IWENm6RXI9UiABEig8hJwiZDl5OTIEiXusBQ1RhkZGRZL2a5du5Cbm2s4Y0Ki1JoZxTKR/rVr1wzrWjMh9nH27Fm5SVQtfaUsqU2L5knRLHvp0iW5RsyafYt19TVk+n1TyIKw5MlHcZO/P14YrL9D08m1cuXV2ln4OYXM2tLP9UmABEig8hFwiZAJ2QgNDZVrorKzs2XBsuTh3kJyxM0Api8x0r+ogTp06JD8PEzxTMwjR47g/PnzEE2R1r6E5OlfIq9in6KJVMTRo0flu0PFPpQhlos86NcT+xZ3ktr6EpKqT19IWaUXMgvlxx05UchsvQq4HQmQAAlUHgIuEbLk5GRZyERzohAyUWNmiZCJ/mDp6emqZ0dIlKjVEhIk0hTPx3TGSwxmK/rAiX2IfSn3pxQ5e/ct9iP2IUI00bqjaDBPltXQUcjsvRq4PQmQAAl4PgFNCZkQONHEWdleFDLLxMddBZFCVtmuWB4vCZAACVhPQHNCZtoM6MhaKevxVcwWFDIKWcWUNO6FBEiABEjAVQQoZK4ib8V+Rc2gu9b+MF/lyyJryKwo7FyVBEiABCopAc0LWWU4b1evXqWQsVN/ZSjqPEYSIAESqLQEKGQaOfWsiSq/JspdGbGGTCMXGbNJAiRAAi4kQCFzIXxrdu2ussF8lS+KFDJrSjrXJQESIIHKSYBCppHzfn7DejC0ySDXxsGJNVI0mU0SIAESIAEHEKCQOQAikyABEiABEiABEiABewhQyOyhx21JgARIgARIgARIwAEEKGQOgMgkSIAESIAESIAESMAeAhQye+hxWxIgARIgARIgARJwAAEKmQMgMgkSIAESIAESIAESsIcAhcweetyWBEiABEiABEiABBxAgELmAIhMggRIgARIgARIgATsIUAhs4cetyUBEiABEiABEiABBxBwCyHLzc1FSEgItm/fXmaIh2xnZWU54LCZBAmQAAmQAAmQAAm4DwGXCdm2bdsQGRmJ7OxsUMjcp0AwJyRAAiRAAiRAAhVPwKVCFhYWhszMTNy4cQOhoaFl1o6J2jPWkFV8AeEeSYAESIAESIAEnE/AZUKmb54MDg62SMZMhayoqMj5dLgHEiABEiABEiABEqgAAhUuZDk5OYiPjy+3NkwvbMr33bt3IykpCXl5eRWAhrsggcpDIO6f2Zg2ez7WRZ6DrVdX0r7fMG3aNPwYchw5BY5jd/nQnwiaPQ1fLQxBUhnJHv5jGqZNW4LNBxOMjyHpCBbP+xKzA+fh4OUyEnDKRxk4/u8aBE4TeSs7Zs76BxeckgcmSgIkoAUCFS5kx48fhxArpWhZOr1jxw5EREQgKipKC2yZRxJwLIHcK9i87BM83bMnepaKIBy3Y29bRgRA8r8dbyzagQwb0zm2/AVIkoRek35FWq6liSRj4xdj0L/4eJ7/cDr2ncs02vjI94NRv6aEhndNwlGjT4xnVr0qQZLuxahvw2GUwtH/4t5GteF/82349rDxNpbPJeHn9024/+dJTPn7VDlJJOHXMQNQTxJ5KzuqPzYXZ8pJzZ6PI+eZ5L/nPJywJ0FuSwIk4FACFSpkomZs586dEB36LZUwtfWEmKWnpzsUBBMjAbcnkHUBP4zuh9qqP+xeuOme1lix66rhMLIvHcfEZ++Bj4+PajzQbjaii9c2J2TxIQvR+R717X18aqHb0Pk4XXwpWi1kGZfxzahu8KpSpURWqnjBu9cEJF7PNhyHq4Xs+P8+wj31feBVpbRQVfHyhk+X93EkMc2QX9OJosIC5Ofnm42oNWNxX30JNXoscUoN2bU936Pj/XXh7WWafy94170PH30bgUp173piOIb2flC+Jj7bbnq2nDuflvQ/9DFzPRpfp12w/Oh552aGqbsdgQoVssTERFnI1CTLmmVC6jIybP0f73bngBkiAcsIKIUs4C607tQJnUQ8eheqyLJQB0+N+i8uFLc55l49g6UTnteto1+3Uye0ebARvL2q4N7WM3GyeM/mhOxs8Hx0uFOCVLNJyf4MafXE+zN+QWLxr7m1Qha3czoelaqi/p2DsTEpDfnpl7H8o46oWVVCnzn7kVOcN3NCtn3yYyUipyqpEqR7u+Ob5TNtqyErKkTcthXodpcE6eZ70LvfIsQozlR2agg+ePQB1PWT0PS175Ci+MyayZO/j3eakF2N2oTX2jco5tQQzQ3nrhMealgsaA3aYt7WGLikV25BDi7EHkF4+DqMa+evy+etj2PJttMwavW+tAH96taE5HcLXgsKhfrf8TOY1NJUOhXzraciXpyYhDC83uNeeV+TrBSywvwcnD22BQve64GbfBVpi/LXcyLCI/Yg5rL536bM61sxUnEO5OtXMd+xfTvcfpME6a7nsCH2ijXFyKJ1iwozEbv7d4x9pjX8FNfMg08Mw4YjJX/mLEqMKzmcQIUJmeiEL8YQE82NQqisETDluuHh4Thx4gQKCowuV4eDYYIk4HYElELW4Ssk6jOYuAuvtfaRf2BavPQJopL1H6i/X/xrHPyqeVsnZG1nIUE9OcNSa4Xst+GNIPk/gHE/7kF2oUimAJcjf0Tfh+pAum0QdtzQJW1OyM5sXYJJkyaVHV99i33rF9smZHkZ2DD7eQRIEh4Yt95wnMqJ9FMhGNylPiSpGZbb2N5oELKXViNVmbiZ6azzh/Dd0iDMnv0jos1XzMlb/z6pva5GtX5rvDfpT6NzGPPnp+hxr04q7n9tKa4UukDJUhOwYFjHYmEsFhx7hcz/dvR6ZRg+Ni0bS4J10myHkB38ZSI63y3y2Rj9h49UlL230aluACRfP7QfvhAxyfq/E2ZOopnFeRlX8Wlv5wnZyXUj0LaBiUgWi9kjI9eYyRUXVxSBChMy/QGJcceuX79uc6SkpMid+nmXpZ4o3ysNAXNChqv4rl9VSFINPP7WfMSW8yPtHkJ2CTM6SZCa9sLKXQkltTPXDmFi/0fhI9XCzEjdmTUnZCXn/QxWDn0Zffv2LY6hWHVY8W/f1j5kuWn4dVIvWRZeWH6sZHfKqcsHMfKZh+V1Rm1VfmDpdDb2fDMcd9WW4PfhvxZsdAPb57+PJjV8UMW7HqaGKI7TZOuior14vb748a2Pp2esN+5XV7xuyLxnUF/8INfsjP8muOBPrl7IGvfFkj+no4vIi71C1rAj5m+JRr4JD8OsrUJ2eQueu1WCdFsLjP5qI85nKjtKpuN02HZM6CHBt9ajmLLmEEoa3Q17LnfCuUJ2BUt7FcvY/X2w4Ie12Lx5sxzfTX4Z/adSyMo9QU5eocKFzMnHw+RJwHMJmBGy/Yv7o4aPrlnx3WVh5XbKt0C7C58AAB5bSURBVEnIvHxQrXp1VFfEm/+LxZG109CmkW55taresphY1qk/FC97SWjQYSD+PakwyNQoTHumNXwlCZ8WNyeVJWRpJzfj5S63w0fZD02qAh/farhHn4CtQlaQiZBFQ3CLJMF74AqVclWIuB3L0e020QfuWWyWa/lKVvvjHWNeSnbKad+q3qgiRMTbV8e3y7uIPFtcPViSXPFUEZLDlqPVnQHw9umM3xLN12oVnV6Ih+Xaj1aYE6rvLWic4PlDP+M/jcWPdDPMi3aBkKEIBfm5yM7JQ2HRFrxQwULm46s7R30m/ohr5XWk2/EpvCQJTbsPws5z6twTV70CSaqCriO+Rhktl8YnQTFnELIOw3C4jH6Jik2QcSYcw/rcherV22BFmbW0iQhsL871Teg3ZhUuZpUcQ1FhPvLyXXH+lUfCaQoZywAJaIWAUsjkH9rif7tiuuYd6Pf6bBxR/I5nX4rC+KeaGDcHKbazrg9ZY7Ro1w7tFDHln0ScClmBQX10y5vfVdcKIQvHYH8Jddu+gI3HFZm2QsiKclLw+5RnUEeqjtueXYyLxecxduNUtG1cDTXqNsL8XZlAsZBVr10fn/64Rx5g+nSyZfUXV08GY3jvhvD1keB/06tYtUe3vRikevuWmWgns2+A574q3RkpZLoxLyW7Mqff/ALHLigk1cbyWXRqPpqJ/DXsie/3nVNN5cLh/6HfHaIc1cBHW83WKalu6/iFWx0jZHWbY9SiX7FLca7E+RIhS46ihqzRg7pzNHzBBqSW18oYMR3+koTGnQdia6yydkxPIgeHg/4DSaqOvhNWIVkheFlXz+LQ/pKyo8+P6fvOkJV4sokEqflz+Gl9KPbs3VdmnzTRzB+99St0qOULSfLDiz+VfSPA9umPoEGN4u+NrqOwZ08kjhyPR4arT70eYSV/p5BV8gLAw9cQgbKE7I53scfkN7xEyO7GgDHjMHHiRKOYuygU+u5m5Xbqd3gfsuv4sofoK9Md3+w8C0PlUvJ+jPrPI/CWbkHQId25MVdDlpOSiClP3wxJaomg/coBxtLxx7A7IdWoi5cW7EJusZAph5146Wv1GiO10nD50Ld4snEtM2JbGy3enI/4G+X9mqul7NxlRVdWoZMs4A/i0/XqQwWdDglCG9GJXOqIlZddXUPiICFT/OlQnnMx3VTcVqkQMqs69V/fh2EPSZDqNcXz7y3DkevKwVWSEfb1TPS+XUKNhm0RtP4klMoW9fNwNJY5K/5ElZFPQ76r1cSAZQfKLCi5187i9xUzMXHifOy+VuaqKMy/hDWTX0eLOwOKy3MV1L+zMz78v404n2LZn5Sy98BP7SFAIbOHHrclgYokoBSyB97GfzduxLfThqBpPfElfxOefv83KP8flwjZE/jTqL9L6UxXvJABf426B1K1u/DBNzuRJbtAPuK3L0fXu/0h3fs+DhTXMJgTstwb5zHj+UaQpIcxK+KS4qBSsGZoE0h+N+PlpZHI19eQ1boZI5dsxMaNG3EwwfydcIqEiiejMPXhJvCuXhMDp/4kby/SWDjkPkjSXRi2IAQmLlw6CVcsKUrCxLaibFRHk6fnqA6psXLYnaghxKDNeFwsKGnCckV2AXuFLAsx4brzK86PWmyLuWa7kAE4E/YDnmsumNbFI916oV+/fsXRBU39q0OqFoDen/+Ky2nGVU5pF44hdIt6ntTyaVj2z7/YH6+oQXbAiSnISsGxyBBsXPUxHtBL4U2345X5IQ5InUnYQ4BCZg89bksCFUlAKWTFd1kWFeQhLLAnfLwkVLnlEXyuGKjUoULm5Qs/f3/4l4q78d7/7UB2AWDtXZYXo5ahk9zfqy9WX0hB3o3z+HLQA/J4XwO/O2vo6G9OyJCXig1zXkZ9yQu+HaZB3ygnaiOa1PGCf73b8fXBQkOTpe0Dw+qEzMe/DiZtKBG//bPaWiBkyfjj45dxRylupVnWrT8WZdeFWFvYihA88wldTYiXD2r4f4S9hiQuYFmvAPh6C7m4De9+vweuuMnSkB15wl4hM07N7JytNWQiwaIshH8/EvfpRcbkve6to7E331DfazYLbvFBUT6y027gr8l95DLiVfV52HRfilscjGdkgkLmGeeRR1EZCKgIme6wj2NOq7vkmo4GbV/GhqNXZJkpEbKOCAzbjX379pWKIzHxSM8phLkasot7V+ONp1qjdWtz0RfT1uxDTqH1Qob8NOz4bixa1A2QO0uLZprqterhgbcWIkkx1L9ZIRMHn3QUUz94ArdWE3eZCrkQUQ233tcc/Rbt0+GxtVO/oUzZI2QlI/V7N7hPlePD99yC6j4Sqvl9iOIcG/ZceiIf8ZsC8Ugjf3j5tMKqmLIfdHUjfh/GP9UINarq2Ri/V61REx3f/hInLrtDk6vjhCzvxgUcOrgfn4khJAzlonj6zg6YtnITTlxQH82sNHPlkmxE/HecXLPU6rNgwwdJwXNwZ/0aqNtoAopb2g2fKScK868hRuU6LH1tnkRyVtnnVpmuZdO5uBx9AAkpynQLsfeX0bhfZtQaXxvG0rEsRa7lWAIUMsfyZGok4DwCZoUMwNUwjOl6DySpNjq8NBWRVwpQImQqP0rFP1K1OgxCcHSKWSGz5mCsrSHTpZ2CyJ+W4ZOxYzF27FjM+XoNTFtoyhQyOZGL2DRzqry9SGPs2Fn457SimccGITu/eyWCgoKKYzz63FIHXr410POtKYblo/rdITdddXj2PczUr/vNahw4pxxNrETIAkZsUcWpH4fMMiHLwL5vx6NpbV94ed+BwN2K41RNHbhy/F8EjnsKjUzE5JEBYzA1cEm549aZSdYxiwsyER2+DktlfsPQXOSx1t0YMPxjBAYF4ZsfdkMe2EM/MGzVALR66j3M0vMW7yv/wMlLiibotET8b9pLqFndGzXrtMeQ4rKlKxsj8HKfVqgjSbi9z3REKU+VRUdkn5ClJa1GL5PzUEoY5c87YukRy+xI1Cz/++v/IShoFQ6VOTpxIoI6+aDrG5MNZTgo8EsM7NBQJ631XsceixhwJWcRoJA5iyzTJQFHEyjIRsKxPdi0bh3W7YwtNc7R9bi9WCc+WxeK2LRCFOak4Xjk1uJlYrlKbNuLy6k5LhSy8iGVL2TlpGGDkO2c8lDpmhVLfkjv7ID5wWcVGXK0kAGiE/eOrRvx9/pwXLS0H3b2RYSJ8//b9xjx1GPyKO1N2j2FMcvCXdv/LScZv372HOqaYdvk4am6Z7TqhUxtvYf643979ffYApknN+LZtrdCkpri41+iTY6vANdObsQ77e+Fj3QTPlhf1uPqFafRMOkgIXuwHxavXFPqmvzj15/wYgvxB8pSISvA6W2L8Xi96pCkWhj0W0mTuiHLhgn9sBdqf9DuxZvLt5Y7ZI4hKU44hQCFzClYHZ/oisNnwdAmg0sZ7tAcVHaZNNdkWfZWxp/aVkNmnIbanCuELD87DTdu3LA+0jKQY9SHqETIqlTzR+3atUtFgF81ud+cZTVkaoSsWFZUiLyL2zGsjahNleDt64dahjwp+5hZkaY9qzpByG4c/QtPtqoHSWqNH+RnJZlkMDUK059tjWqShBdWqq1gvP7Fvf/Ds631560WaorzJdgpzmct/+ryOaziVQ01DTxr477PdxglZqgh6/wBolSaTA3jkFksZEDaqW0Y0uUW+eaWBTFl9V8rRPaNZCx5436jPxu17+uA/wtNRG5BWdsaHQZnnETAbYRM3N+TnV+IgxezcPhSljzt6nt+nMTcpmQXH4gDQ5sMLqZbWo1hU9FwyEbuLGQxf32G7h1aoGf/xThly9HaUENmy27Ut7mGLUFj0K1FC7QoJ9q0nw31wSnUU7ZraVIwhrZsiTvri5oVfY3J24iwK1E32Tj9NBYN7YYa3lXQoMk7+O3QIRwyRARWTnkVd0gS6jR5AetKKtbMZj7p6HoMf7b886d2fnvOK37cRHHqBiFrORC/b9mlyJcuj/t2b8fb8uCtltaQmc02P9AgAbcQMiFeV7PysTshE5tOZcgRkZiJ1BxXj4vjPmeUMqZNGRPnTQtCFr12AkaOn4zVO2KNxk+y5gq4GP49Ro4ciaXrD8GtLt2LezHj84kY/8lkRCjHBbHm4Dx03QO/z5bPmThvI0f+AmVjq5YPOe3EJnw6cQx63qeXTcV7nSboO/At/HdvmR2unHL4BiEzSLAiX0bLKGROOQFunqhbCFlyRj62n83ExlPpBiETYrY7IQvXsozHc3Fznk7LHoWMQua0wsWEScBDCZyNXIu1a01iSzjOlfucJOcAyc9JRJhpflTntyPuhmKof+dkh6m6GQGXC9mljDxsMhExfS3Zhph0/Hs6Hdd1o0a6GbqKzQ6FjEJWsSWOeyMBEiABEqhIAi4TMjEIYWZeIULPZGBDjK6ZUi9iyvf1MRnYEpsur+v6gQsr8tQY74tCRiEzLhGcIwESIAES8CQCLhGyoiLgfGoeQuIysLG4z5hSwtSmQ+MycDWz8jZfUsgoZJ70xcNjIQESIAESMCbgEiFLSs9H6JlMbCyjZsxUysS6u85V3j5lFDIKmfGlyzkSIAESIAFPIlDhQnYtMx+bzfQZM5Uw03nRpyw4Lh3puZXv7ksKGYXMk754eCwkQAIkQALGBCpMyMTQFmIYi+C4kqEtTIXL0nlRW5aRV7kGsaOQUciML13OkYC2CNSqVUsx5pluuAdtHQFzSwLOJVBhQiY68EcmZhkNa2GpgKmtt/d8ltzR37l43Cd1ChmFzH1KI3NCAtYToJBZz4xbVC4CFSJk4u7I40nZ+MfCDvxqAma6TKR1IjkH+ZXk1ksKGYWscn018Wg9jQCFzNPOKI/H0QQqRMjiruVgQ7TxoK+mgmXL/D+n0pFwI9fRTNwyPQoZhcwtCyYzRQIWEqCQWQiKq1VaAk4XsrD4sscZs0XElNusj9aNUebpZ1BTQrZrPyb/GVIqpmyKwFd7Tpt5Jmcs5oftxzSx3ZYjpdaZ+cUAuf/JPS9Nx8xwbcmZFh6d5OnXD4/P9QQoZK4/B8yBexNwmpCJpsRLafnYEmt+0FelWNkzLZ6BeTk9HwUe3HypKSFbMbxU513xAONqjR5C1/eW4vOwE6WEa/GBExj3xTtoKJ7n1mdWqc+1LGQnL17AviPbK13sP7Idchzdjv1Ht+PUmSOIO3e8VJxJOIHy4mzCCZxNLCPOn8BZRcSfP4GSOIn48ycRf0E9zl04iXMXy4poJFyMRsKlcuJyNBKKI/FyNEpHDJKvn0NqxlWzkZZxFZ4aAQEBpb4XIg/H4Kd1250eW8IPITev8o5j6d4awtzpCThNyMQgrltjLR/41R4hE4PLin0lZXjuBecJQiakTJLq4bGp60sJlycL2ea92zBkVOdKF0NHd8bQMV3whoixXTBi8pMYPf1ZjBExQxdjZwzA2C8GYJyImSKew7hZz2H8rOcwYfZzmDDneUwsjo+/fB5yzH0BnwSWxKSgFyHHVy/iUxHzXsRnIua/iM/nv4TPF7yEySIWvoTJiwZiiojFupi6ZCCmLXlZF0tfxnQRy16RY8byVyDH/72KL/7vVcz8uiRmff0qZn0j4jXM/vY1zP7uNcyRYxDmfD8IX4pYOQhzRfzwOgJFrHodi1a/ixW/j8KKtaOw4o9R+Foff47C13+Owjd/jsY3f43Gtx4Y1f18SwnZ+Dkr0bDdYKfHM8NmIiU1Q/+7x3cScEsCThOyxNQ8iHHD7BEta7YVj1+Kvea5/ck0KWS3tcaAoD8wfWMYPv1pCZo30t3q7t0vsFIJ2ax1v+GZNx+odPHsWw/g2bcexIC3H8SAdx7EcyLefRDPD3vIEC+89xBeHN5MF+83w0siPngYAz/UxcsfPYJXRuji1ZGPQMRro5rjtdG6GDSmOV4f+6guxj2KwSLGt8AQERNaYOiEFnjj45ZyvPlJS4h4a1IrvPWpLt7+rBXe+ewxvPO5Lt6d/BjendIaw0RMbY33RExrg+HT2+D9Gbr44Iu2kGNmW3w4sy0+mtUOH83WxYg57TDiy/YYKWJue4wSEdgBo0UEdcAYEfM6YqyI+R0xbn5HjF/QCeMX6mLCwk6YsKgzJi72vPCt7l1KyJ6esNjpMiaEr/2gyVi2Jxo/HDvHIAOHloH41EyHyZ3DhUyMN3Y2xTmd+MsTNNHJX4igJ740KWRNOmHQyl2yfM3fvh39u94OSaqGe0f8qiJkxzFm+lto4IFNllP/WFPpZEwIKIWMQqYUSzUhe2LcwgoRsjavfY65YVEq3zva6o+qqd+BA5WDbWyK42peHS5k4hmV4mHgZT0wvDyxsvVzsU/xsHJPHApDUxeivg/Zzfeiw1ufYtDUuXhx9EtoKNXELY++iRHBR0t/MUYewbvv/wfVhZA9PAozTS5mfR+yBm0H4PlJczF45kJ8HqqNC55Cxhoy1pB1BoVMG99XmvqtMfmdcEXe3VbIRO2YECJbhcoR24n+ZHHXczyukswVBc3mfeqFTO4zpmum1PUfC8Cj7y3F3D2lv5gW7IzE070bFDdpNMYLvxuvoxcyXToSqgbcjFdWG69jc36dfFFTyChkFDIKmbt+PzFf9v2OuK2QiY78wXGuFTIhdeJZmeIxTZ700tRFY1bIJFStWRfNRq8tVUM2c+4Q1KhWIm/1+i3CHIUo6YXsjv6jMXbNdkxdvxOBKmLnjpwoZBQyChmFzB2/m5gn+2RM8HNLIbuWpZMxUUPliJoue9MIic2AyJOnvDR14eiFTNGHbHHEIbzxZlf4eAnpegIf7i25EObv+Avdm0qo4tMQzbr2QN2b/eDtVxe9vgzFgv269fRCpsVxyP6JDMXgkR0rXQwZ1RFDRneSY+iYThg0oi0GjWyDQSPb4vVRuhg8qi0Gj26HISLGtMPQsSLaY+i49nhDxIQOeLM43prYASLe/rgj3v5EF+9M6oh3P+2ki886YZiIzzvjPRGTO2P45M54f0oXvD+1Cz6Ypo/H8eH0x/HhjMfxkRxdMeILXYyc2RUjZ+li1OyuGDW7G0bN6YbRX3bDmLkiumNsYHEEdce4oB4Y/1UPjJ+niwnze0LExAU9MXFhT3wsRy98skgXHy/sgYkLu+liUTd8LGJxN3yyRBeTlnTHpKXd8ekyz4tq1X1KdeqfufRXtHx6lNPjrY8XIzXdcZ2vPeV3hcfhXgQc0odM15E/Dxsr8K5KS4RN3HUp8uYJL80L2d7jGDXlDdTzF0LWDK+uF6IVg5m//oL+PepB8vZFo74fYsKmSIz6qBf8JW/Uvb8PXv0mBPP2xkHLQnY6KRmJF2Mrfew9HIqIg1uwxyi2Ys+hrYhUxuGtiDREMPYeLo4jwdirEvuOBsMojgVjvyFCsP9YcUSFYH9UCA6IOK6MUBw8rogToTiojJOhOGQSh0+G4nC0iG0lEbMNh4vjSMw2GOLUdhyRYxsijq5DcOQqowjZuwr6CN23Cp4afv41SgmZJ3w38xhIwFEEHCJkeYVFDn1wuCWyZck6By5kIafAM5RMk0JWsyGadn0aHQcMRMenB+DepsV9xG55HmN2nMCkpTPQ6qHGcq2ZX5f3MeKPA7qmzLAQDB7aCwGShFp3t0afOZs1LWQcqd9RX1dMR8sEOFK/ls8e814RBBwiZAcvZrpd7ZgsbDEZiErKrgiOTt+HJoWsVKd+UTvWCF3m/IsFB07jq22hGDyoK+5+NRBTQoxvSV+4ey8+mjIcHV8dhQkboyhkTi9h3AEJOJcAhcy5fJm69gk4RMg2RqdhY4x79B1T1pyJPP17Ol37Zwko1QnerQXt+3GoVa9B6Xi0H4b+GGHTsWi5yZI1ZB5xCfIg7CRAIbMTIDf3eAJ2C1lWXiHEA76VIuRO0yJveR7QbOnWAqa4G9JZ+aSQefx3EQ/QwwlQyDz8BPPw7CZgt5DFXMnGplPuK2RCDs+laH9cMmeJjlbSpZDZfa0zARJwKQEKmUvxc+caIGCXkKVki6Eu3FvGhJBtjU1HRm6hBk6H+SxqRZyclU8KmfmywU9IQAsEKGRaOEvMoysJ2Cxk4t5FMSK+uw11odZc+nd0GhJuaPvB484SHaZbMh6as1iwD5krv+K4b3chcMstt8DPz88o3CVvzAcJuAMBm4UsK78QexIy4S4DwaqJmH6ZeMbl/vNZ7sDb5jw4SxaYLoXM5kLJDUnACgJr167FmjVrjMKKzbkqCXg8AZuF7EZ2AbadydCEkAlp3JNIIaN8OV++1Bizhszjv0d5gCRAAiRgNwGbhSwpPR//nna/oS70tWKm73sStT0emdoPPZe5RrCs5U4hs/t7igmQAAmQgMcTsFnILqbluf3dlUopi0jMRmGRdkftt1YCuL77yBqFzOO/R3mAJEACJGA3AZuF7Hyq+z27UilgptMRCVmaHo+MguU+gmXtuaCQ2f09xQQ0SiD94jFs/uMP/FEqduF8XoFGj4rZJgHnEKCQOYerw1O1VgK4vvsIHIXM4ZcDE9QIgeg/x+JO1UeoNUH/4R/g5/0pGjkSZpMEnE/AZiG7oMEasvxCNllS1Cpe1Chkzv8i4x7ck4B5IRPPtZXQvM9SnHHPrDNXJFDhBGwXMg32IfOAJyhVeAHhDkmABEjAVgIGIXvgbRzKKB4LMn4bXupyN6pIEm6+uwV+OWFr6tyOBDyLgM1CJu6y3KyhuywjND7shWcVOx4NCZBAZSCgKmTIw66g/vCvKqF+08fxZ2xlIMFjJIHyCdgsZCnZBQg9o42BYT1hHLLyTyXXIAESIAH3IqAmZNdObcHIvk3g4yXhnr4zcVLbQ0S6F3DmRtMEbBay7PxCRCZqQ8jkkfov8KrXdEll5kmABDRHwCBk1eujWavH0KZNGzS//w74+4o+ZM0QGHEV+Zo7KmaYBJxDwGYhE/3jTyRna2Kk/vUn0xFzRdsDwzrn9DNVEiABEnAeAYOQmd5ped8b2Jea47wdM2US0CABm4VMHGtaTgGC49x/tP6tsenIyS/U4OlhlkmABEhAuwQMQlazMTr16Yve3Tqh8U2idqwx3lgcievaPTTmnAQcTsAuIRMj35++mgPTQVjdaV70H4tP4T8xh5ccJkgCJEAC5RAwCFnxXZY5qZexevKTuKOOkLJHMD4kvpwU+DEJVB4CdgmZwCTG9lofk+62UvZ3dDo0PPxY5SmJPFISIAGPI2AqZOIAc24cwNRezVBVDHvRqj9+OcjBYT3uxPOAbCJgt5CJvYbHZ7illK2PTse+C5k2geFGJEACJEAC9hFQEzI5xUsb0L+uPyTJH10GBSEmlV1K7CPNrT2BgEOELDkjD5tPuV8tmejfdjWT9/B4QkHlMZAACWiPQMKuFRjUuzd6vzkPsdkm38UHlqG3+Kz3QHz191Hk0cm0d4KZY4cScIiQiSbB40k52BjjPh38RV6iLufITaoOJcbESIAESIAESIAESMDBBBwiZCJPoiZqS2yG2wyDsTU2A8kZJv/IHAyPyZEACZAACZAACZCAIwg4TMhEZsRgsSFxmS7v4L8rPgP5Rdp9kLgjTizTIAESIAESIAES0A4BhwqZOOwjl7Kx7axrpOyfUxnYfjYTOfmUMe0UQeaUBEiABEiABEjA4UImkN7ILkBEQmaF9ikT441FJGTJg9XytJIACZAACZAACZCAlgg4RcgEgAup+dh0Kr1C+pTpbyZIuJEH1o1pqfgxryRAAiRAAiRAAoKA04RMjzc8PhN/nXSOmAkRW3cyHcnp7Lyv5813EiABEiABEiAB7RFwupCJ/lwnknMQFp+FYAd1+BciJm4eCD+XhZgrfCyS9oodc0wCJEACJEACJKAk4HQh0+8sr7AIl9LzZYkS/b02WDlmmXKbnfGZuJyej7wCNlDq+fKdBEiABEiABEhAuwQqTMj0iDJyC3E1swBJGfmIT8lDZGK2XNslar3EMzHFsydFiGlx12TomUzsScyS103KKJC3Tc/lkM56nnwnARIgARIgARLQPoEKFzJTZKKOK78QuJZZgItp+Th3Iw/xN/Lk6dTsQohKMA4pZkqN8yRAAiRAAiRAAp5EwOVC5kkweSwkQAIkQAIkQAIkYAsBCpkt1LgNCZAACZAACZAACTiQAIXMgTCZFAmQAAmQAAmQAAnYQoBCZgs1bkMCJEACJEACJEACDiRAIXMgTCZFAiRAAiRAAiRAArYQoJDZQo3bkAAJkAAJkAAJkIADCVDIHAiTSZEACZAACZAACZCALQQoZLZQ4zYkQAIkQAIkQAIk4EACFDIHwmRSJEACJEACJEACJGALAQqZLdS4DQmQAAmQAAmQAAk4kACFzIEwmRQJkAAJkAAJkAAJ2EKAQmYLNW5DAiRAAiRAAiRAAg4kQCFzIEwmRQIkQAIkQAIkQAK2EKCQ2UKN25AACZAACZAACZCAAwn8P9770RFZV9csAAAAAElFTkSuQmCC)\n",
        "\n",
        "\n",
        "종민이의 집에서 한 달간 사용하는 수도의 양이 W리터라고 할 때, 요금이 더 저렴한 회사를 골라 그 요금을 출력하는 프로그램을 작성하라.\n",
        "\n",
        "[입력]\n",
        "\n",
        "첫 번째 줄에 테스트 케이스의 수 T가 주어진다.\n",
        "\n",
        "각 테스트 케이스마다 첫 번째 줄에 위 본문에서 설명한 대로 P, Q, R, S, W(1 ≤ P, Q, R, S, W ≤ 10000, 자연수)가 순서대로 공백 하나로 구분되어 주어진다.\n",
        "\n",
        "[출력]\n",
        "\n",
        "각 테스트 케이스마다 ‘#x’(x는 테스트케이스 번호를 의미하며 1부터 시작한다)를 출력하고, 종민이가 내야 하는 수도 요금을 출력한다.\n",
        "'''"
      ]
    },
    {
      "cell_type": "markdown",
      "metadata": {
        "id": "h8eR9zhQpANP",
        "colab_type": "text"
      },
      "source": [
        "입력\n",
        "```\n",
        "2\n",
        "9 100 20 3 10\n",
        "8 300 100 10 250\n",
        "```\n",
        "출력\n",
        "```\n",
        "#1 90\n",
        "#2 1800\n",
        "```"
      ]
    },
    {
      "cell_type": "code",
      "metadata": {
        "id": "7ljTRJwfoY_L",
        "colab_type": "code",
        "colab": {
          "base_uri": "https://localhost:8080/",
          "height": 107
        },
        "outputId": "232665e8-cdc7-45e2-9bab-ddddc9d8c0b1"
      },
      "source": [
        "T = int(input())\n",
        "\n",
        "for t in range(1,T+1):\n",
        "  P,Q,R,S,W = map(int,input().split())\n",
        "  A = P * W\n",
        "  if W>R:\n",
        "    B = abs(W-R) * S + Q\n",
        "  else:\n",
        "    B = Q\n",
        "  bill = 0\n",
        "  if A > B:\n",
        "    bill = B\n",
        "  else:\n",
        "    bill = A\n",
        "  print(f'#{t}',bill)"
      ],
      "execution_count": null,
      "outputs": [
        {
          "output_type": "stream",
          "text": [
            "2\n",
            "9 100 20 3 40\n",
            "#1 160\n",
            "9 100 20 3 10\n",
            "#2 90\n"
          ],
          "name": "stdout"
        }
      ]
    },
    {
      "cell_type": "markdown",
      "metadata": {
        "id": "XaU7Rp8Ipn3u",
        "colab_type": "text"
      },
      "source": [
        "## 1288. 새로운 불면증 치료법\n",
        "\n",
        "'''\n",
        "민석이는 불면증에 걸렸다. 그래서 잠이 안 올 때의 민간요법 중 하나인 양 세기를 하려고 한다.\n",
        "\n",
        "민석이는 1번 양부터 순서대로 세는 것이 재미없을 것 같아서 N의 배수 번호인 양을 세기로 하였다.\n",
        "\n",
        "즉, 첫 번째에는 N번 양을 세고, 두 번째에는 2N번 양, … , k번째에는 kN번 양을 센다.\n",
        "\n",
        "이렇게 숫자를 세던 민석이에게 잠은 더 오지 않고 다음과 같은 궁금증이 생겼다.\n",
        "\n",
        "이전에 셌던 번호들의 각 자리수에서 0에서 9까지의 모든 숫자를 보는 것은 최소 몇 번 양을 센 시점일까?\n",
        "\n",
        "예를 들어 N = 1295이라고 하자.\n",
        "\n",
        "첫 번째로 N = 1295번 양을 센다. 현재 본 숫자는 1, 2, 5, 9이다.\n",
        "\n",
        "두 번째로 2N = 2590번 양을 센다. 현재 본 숫자는 0, 2, 5, 9이다.\n",
        "\n",
        "현재까지 본 숫자는 0, 1, 2, 5, 9이다.\n",
        "\n",
        "세 번째로 3N = 3885번 양을 센다. 현재 본 숫자는 3, 5, 8이다.\n",
        "\n",
        "현재까지 본 숫자는 0, 1, 2, 3, 5, 8, 9이다.\n",
        "\n",
        "네 번째로 4N = 5180번 양을 센다. 현재 본 숫자는 0, 1, 5, 8이다.\n",
        "\n",
        "현재까지 본 숫자는 0, 1, 2, 3, 5, 8, 9이다.\n",
        "\n",
        "다섯 번째로 5N = 6475번 양을 센다. 현재 본 숫자는 4, 5, 6, 7이다.\n",
        "\n",
        "현재까지 본 숫자는 0, 1, 2, 3, 4, 5, 6, 7, 8, 9이다.\n",
        "\n",
        "5N번 양을 세면 0에서 9까지 모든 숫자를 보게 되므로 민석이는 양 세기를 멈춘다.\n",
        "\n",
        "[입력]\n",
        "\n",
        "첫 번째 줄에 테스트 케이스의 수 T가 주어진다.\n",
        "\n",
        "각 테스트 케이스의 첫 번째 줄에는 N (1 ≤ N ≤ 106)이 주어진다.\n",
        "\n",
        "[출력]\n",
        "\n",
        "각 테스트 케이스마다 ‘#x’(x는 테스트케이스 번호를 의미하며 1부터 시작한다)를 출력하고,\n",
        "\n",
        "최소 몇 번 양을 세었을 때 이전에 봤던 숫자들의 자릿수에서 0에서 9까지의 모든 숫자를 보게 되는지 출력한다.\n",
        "\n",
        "( 민석이는 xN번 양을 세고 있다. )\n",
        "'''"
      ]
    },
    {
      "cell_type": "markdown",
      "metadata": {
        "id": "FjVvCvTipvqZ",
        "colab_type": "text"
      },
      "source": [
        "입력\n",
        "```\n",
        "5\n",
        "1\n",
        "2\n",
        "11\n",
        "1295\n",
        "1692\n",
        "```\n",
        "\n",
        "출력\n",
        "```\n",
        "#1 10\n",
        "#2 90\n",
        "#3 110\n",
        "#4 6475\n",
        "#5 5076\n",
        "```"
      ]
    },
    {
      "cell_type": "code",
      "metadata": {
        "id": "6OEa5tCmpimI",
        "colab_type": "code",
        "colab": {
          "base_uri": "https://localhost:8080/",
          "height": 395
        },
        "outputId": "4a01e0d8-7e81-40e3-a469-cd809ddcd562"
      },
      "source": [
        "T = int(input())\n",
        "\n",
        "for t in range(1,T+1):\n",
        "  n = int(input())\n",
        "  answers = set(range(0,10))\n",
        "  numbers = set()\n",
        "  i = 0\n",
        "  while numbers != answers:\n",
        "    i = i+1\n",
        "    number = i*n\n",
        "    while number != 0:\n",
        "      shares = number%10\n",
        "      number = number//10\n",
        "      numbers.add(shares)\n",
        "      if numbers == answers:\n",
        "        break\n",
        "  print(f'#{t}',i*n)"
      ],
      "execution_count": null,
      "outputs": [
        {
          "output_type": "stream",
          "text": [
            "10\n",
            "1\n",
            "10\n",
            "2\n",
            "90\n",
            "11\n",
            "110\n",
            "1295\n",
            "6475\n",
            "1692\n",
            "5076\n",
            "1111\n",
            "11110\n",
            "111\n",
            "1110\n",
            "1111\n",
            "11110\n",
            "1111\n",
            "11110\n",
            "11\n",
            "110\n"
          ],
          "name": "stdout"
        }
      ]
    },
    {
      "cell_type": "markdown",
      "metadata": {
        "id": "x-zkp05XqZkn",
        "colab_type": "text"
      },
      "source": [
        "## 1928. Base64 Decoder\n",
        "\n",
        "'''\n",
        " 다음과 같이 Encoding 을 한다.\n",
        "\n",
        "1. 우선 24비트 버퍼에 위쪽(MSB)부터 한 byte씩 3 byte의 문자를 집어넣는다.\n",
        "\n",
        "2. ascii 코드를 사용해 byte의 문자를 이진수로 변환한다.\n",
        "\n",
        "3. 버퍼의 위쪽부터 6비트씩 잘라 그 값을 읽고, 각각의 값을 아래 [표-1] 의 문자로 Encoding 한다.\n",
        "\n",
        "![image.png](data:image/png;base64,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)\n",
        "\n",
        "\n",
        "\n",
        "입력으로 Base64 Encoding 된 String 이 주어졌을 때, 해당 String 을 Decoding 하여, 원문을 출력하는 프로그램을 작성하시오.\n",
        "\n",
        "[제약사항]\n",
        "문자열의 길이는 항상 4의 배수로 주어진다.\n",
        "그리고 문자열의 길이는 100000을 넘지 않는다.\n",
        "\n",
        "[입력]\n",
        "입력은 첫 줄에 총 테스트 케이스의 개수 T가 온다.\n",
        "다음 줄부터 각 테스트 케이스가 주어진다.\n",
        "테스트 케이스는 Encoding 된 상태로 주어지는 문자열이다.\n",
        "\n",
        "[출력]\n",
        "테스트 케이스 t에 대한 결과는 “#t”을 찍고, 한 칸 띄고, 정답을 출력한다.\n",
        "(t는 테스트 케이스의 번호를 의미하며 1부터 시작한다.)"
      ]
    },
    {
      "cell_type": "markdown",
      "metadata": {
        "id": "udbL9tMXqdQ3",
        "colab_type": "text"
      },
      "source": [
        "입력\n",
        "```\n",
        "10\n",
        "TGlmZSBpdHNlbGYgaXMgYSBxdW90YXRpb24u\n",
        "U3VzcGljaW9uIGZvbGxvd3MgY2xvc2Ugb24gbWlzdHJ1c3Qu\n",
        "VG8gZG91YnQgaXMgc2FmZXIgdGhhbiB0byBiZSBzZWN1cmUu\n",
        "T25seSB0aGUganVzdCBtYW4gZW5qb3lzIHBlYWNlIG9mIG1pbmQu\n",
        "QSBmdWxsIGJlbGx5IGlzIHRoZSBtb3RoZXIgb2YgYWxsIGV2aWwu\n",
        "```\n",
        "\n",
        "출력\n",
        "```\n",
        "#1 Life itself is a quotation.\n",
        "#2 Suspicion follows close on mistrust.\n",
        "#3 To doubt is safer than to be secure.\n",
        "#4 Only the just man enjoys peace of mind.\n",
        "#5 A full belly is the mother of all evil.\n",
        "```"
      ]
    },
    {
      "cell_type": "code",
      "metadata": {
        "id": "69lTp9JYqXJZ",
        "colab_type": "code",
        "colab": {
          "base_uri": "https://localhost:8080/",
          "height": 71
        },
        "outputId": "723a7357-64ba-4ab1-d7f0-1ea0f8e1802c"
      },
      "source": [
        "import base64\n",
        "\n",
        "T = int(input())\n",
        "\n",
        "for t in range(1,T+1):\n",
        "  strings = input()\n",
        "  make_bytes = strings.encode(\"UTF-8\")\n",
        "  decoded = base64.b64decode(make_bytes)\n",
        "  raws = decoded.decode(\"UTF-8\")\n",
        "  print(f'#{t}',raws)"
      ],
      "execution_count": null,
      "outputs": [
        {
          "output_type": "stream",
          "text": [
            "1\n",
            "TGlmZSBpdHNlbGYgaXMgYSBxdW90YXRpb24u\n",
            "Life itself is a quotation.\n"
          ],
          "name": "stdout"
        }
      ]
    },
    {
      "cell_type": "markdown",
      "metadata": {
        "id": "0FovhdhYq1L2",
        "colab_type": "text"
      },
      "source": [
        "## 1940. 가랏! RC카!\n",
        "\n",
        "'''\n",
        "RC (Radio Control) 카의 이동거리를 계산하려고 한다.\n",
        "\n",
        "입력으로 매 초마다 아래와 같은 command 가 정수로 주어진다.\n",
        "\n",
        "0 : 현재 속도 유지.\n",
        "\n",
        "1 : 가속\n",
        "\n",
        "2 : 감속\n",
        "\n",
        "위 command 중, 가속(1) 또는 감속(2) 의 경우 가속도의 값이 추가로 주어진다.\n",
        "\n",
        "가속도의 단위는, m/s2 이며, 모두 양의 정수로 주어진다.\n",
        "\n",
        "입력으로 주어진 N 개의 command 를 모두 수행했을 때, N 초 동안 이동한 거리를 계산하는 프로그램을 작성하라.\n",
        "\n",
        "RC 카의 초기 속도는 0 m/s 이다.\n",
        "\n",
        "[예제]\n",
        "\n",
        "아래 예제 입력에서 정답은 3 이 된다.\n",
        "\n",
        "입력   시간   RC 카의 속도  RC카의 이동거리\n",
        "\n",
        "1     2              1 sec               2 m/       s                    2 m\n",
        "\n",
        "2 1               2 sec               1 m/s                         3 m\n",
        "\n",
        "\n",
        "[제약사항]\n",
        "\n",
        "1. N은 2이상 30이하의 정수이다. (2 ≤ N ≤ 30)\n",
        "\n",
        "2. 가속도의 값은 1 m/s2 혹은 2 m/s2 이다.\n",
        "\n",
        "3. 현재 속도보다 감속할 속도가 더 클 경우, 속도는 0 m/s 가 된다.\n",
        "\n",
        "\n",
        "[입력]\n",
        "\n",
        "입력은 첫 줄에 총 테스트 케이스의 개수 T, 다음 줄부터 각 테스트 케이스가 주어진다.\n",
        "\n",
        "테스트 케이스 첫 줄에는 Command 의 수 N이 주어지고, 둘째 줄부터, 매 줄마다 각각의 Command가 주어진다.\n",
        "\n",
        "\n",
        "[출력]\n",
        "\n",
        "테스트 케이스 t에 대한 결과는 “#t”을 찍고, 한 칸 띄고, 정답을 출력한다.\n",
        "\n",
        "(t는 테스트 케이스의 번호를 의미하며 1부터 시작한다.)\n",
        "'''"
      ]
    },
    {
      "cell_type": "markdown",
      "metadata": {
        "id": "cje2Xu1wq701",
        "colab_type": "text"
      },
      "source": [
        "입력\n",
        "```\n",
        "10\n",
        "2\n",
        "1 2\n",
        "2 1\n",
        "3\n",
        "1 1\n",
        "0\n",
        "1 1\n",
        "5\n",
        "1 2\n",
        "1 2\n",
        "2 1\n",
        "0\n",
        "0\n",
        "…\n",
        "```\n",
        "\n",
        "출력\n",
        "```\n",
        "#1 3\n",
        "#2 4\n",
        "...\n",
        "```"
      ]
    },
    {
      "cell_type": "code",
      "metadata": {
        "id": "2OSHUQpPqwDv",
        "colab_type": "code",
        "colab": {
          "base_uri": "https://localhost:8080/",
          "height": 107
        },
        "outputId": "da19ace5-05c2-45a5-a329-d33e729268ba"
      },
      "source": [
        "T = int(input())\n",
        "\n",
        "for t in range(1,T+1):\n",
        "  n = int(input())\n",
        "  speed = 0\n",
        "  distance = 0\n",
        "  for s in range(1,n+1):\n",
        "    command = list(map(int,input().split()))\n",
        "    if command[0] == 1:\n",
        "      speed += command[1]\n",
        "      distance += speed\n",
        "    elif command[0] == 2:\n",
        "      if speed > 0:\n",
        "        speed -= command[1]\n",
        "        distance += speed\n",
        "      else:\n",
        "        speed = speed\n",
        "        distance += speed\n",
        "    else:\n",
        "      speed = speed\n",
        "      distance += speed\n",
        "  print(f'#{t}',distance)    "
      ],
      "execution_count": null,
      "outputs": [
        {
          "output_type": "stream",
          "text": [
            "1\n",
            "2\n",
            "1 2\n",
            "2 1\n",
            "#1 3\n"
          ],
          "name": "stdout"
        }
      ]
    },
    {
      "cell_type": "markdown",
      "metadata": {
        "id": "UWqa9B4ArWB2",
        "colab_type": "text"
      },
      "source": [
        "## 1945. 간단한 소인수분해\n",
        "\n",
        "'''\n",
        "숫자 N은 아래와 같다.\n",
        "\n",
        "N=2a x 3b x 5c x 7d x 11e\n",
        "\n",
        "N이 주어질 때 a, b, c, d, e 를 출력하라.\n",
        "\n",
        "\n",
        "[제약 사항]\n",
        "\n",
        "N은 2 이상 10,000,000 이하이다.\n",
        "\n",
        "\n",
        "[입력]\n",
        "\n",
        "가장 첫 줄에는 테스트 케이스의 개수 T가 주어지고, 그 아래로 각 테스트 케이스가 주어진다.\n",
        "\n",
        "각 테스트 케이스의 첫 번째 줄에 N 이 주어진다.\n",
        "\n",
        "\n",
        "[출력]\n",
        "\n",
        "출력의 각 줄은 '#t'로 시작하고, 공백을 한 칸 둔 다음 정답을 출력한다.\n",
        "\n",
        "(t는 테스트 케이스의 번호를 의미하며 1부터 시작한다.)\n",
        "'''"
      ]
    },
    {
      "cell_type": "markdown",
      "metadata": {
        "id": "8II7ZfmxrV_G",
        "colab_type": "text"
      },
      "source": [
        "입력\n",
        "```\n",
        "10  \n",
        "6791400\n",
        "1646400\n",
        "1425600\n",
        "8575\n",
        "185625\n",
        "6480\n",
        "1185408\n",
        "6561\n",
        "25\n",
        "330750\n",
        "```\n",
        "\n",
        "출력\n",
        "```\n",
        "#1 3 2 2 3 1\n",
        "#2 6 1 2 3 0\n",
        "#3 6 4 2 0 1\n",
        "#4 0 0 2 3 0\n",
        "#5 0 3 4 0 1\n",
        "#6 4 4 1 0 0\n",
        "#7 7 3 0 3 0\n",
        "#8 0 8 0 0 0\n",
        "#9 0 0 2 0 0\n",
        "#10 1 3 3 2 0\n",
        "```"
      ]
    },
    {
      "cell_type": "code",
      "metadata": {
        "id": "qDwvBMmmrThP",
        "colab_type": "code",
        "colab": {
          "base_uri": "https://localhost:8080/",
          "height": 71
        },
        "outputId": "d079ea1c-5c17-4c9a-ec19-d04632b1941b"
      },
      "source": [
        "T = int(input())\n",
        "\n",
        "for t in range(1,T+1):\n",
        "  N = int(input())\n",
        "  a = 0\n",
        "  b = 0\n",
        "  c = 0\n",
        "  d = 0\n",
        "  e = 0\n",
        "  while N != 1:\n",
        "    if N%2 == 0:\n",
        "      a +=1\n",
        "      N = N//2\n",
        "    if N%3 == 0:\n",
        "      b +=1\n",
        "      N = N//3\n",
        "    if N%5 == 0:\n",
        "      c +=1\n",
        "      N = N//5\n",
        "    if N%7 == 0:\n",
        "      d+=1\n",
        "      N = N//7\n",
        "    if N%11 == 0:\n",
        "      e+=1\n",
        "      N = N//11            \n",
        "  print(f'#{t}',a,b,c,d,e)"
      ],
      "execution_count": null,
      "outputs": [
        {
          "output_type": "stream",
          "text": [
            "1\n",
            "25\n",
            "0 0 2 0 0\n"
          ],
          "name": "stdout"
        }
      ]
    },
    {
      "cell_type": "markdown",
      "metadata": {
        "id": "TEJ1mKUarytF",
        "colab_type": "text"
      },
      "source": [
        "## 1946. 간단한 압축 풀기\n",
        "\n",
        "'''\n",
        "원본 문서는 너비가 10인 여러 줄의 문자열로 이루어져 있다.\n",
        "\n",
        "문자열은 마지막 줄을 제외하고 빈 공간 없이 알파벳으로 채워져 있고 마지막 줄은 왼쪽부터 채워져 있다.\n",
        "\n",
        "이 문서를 압축한 문서는 알파벳과 그 알파벳의 연속된 개수로 이루어진 쌍들이 나열되어 있다. (예 : A 5    AAAAA)\n",
        "\n",
        "압축된 문서를 입력 받아 원본 문서를 만드는 프로그램을 작성하시오.\n",
        "\n",
        "[예제]\n",
        "압축된 문서의 내용\n",
        "\n",
        "A 10\n",
        "B 7\n",
        "C 5\n",
        "\n",
        "\n",
        "압축을 풀었을 때 원본 문서의 내용\n",
        "\n",
        "AAAAAAAAAA\n",
        "BBBBBBBCCC\n",
        "CC\n",
        "\n",
        "\n",
        "[제약사항]\n",
        "\n",
        "1. 압축된 문서의 알파벳과 숫자 쌍의 개수 N은1이상 10이하의 정수이다. (1 ≤ N ≤ 10)\n",
        "\n",
        "2. 주어지는 알파벳 Ci는 A~Z의 대문자이다. (i는 줄의 번호로 1-N까지의 수)\n",
        "\n",
        "3. 알파벳의 연속된 개수로 주어지는 수 Ki는 1이상 20이하의 정수이다. (1 ≤ Ki ≤ 20, i는 줄의 번호로 1~N까지의 수)\n",
        "\n",
        "4. 원본 문서의 너비는 10으로 고정이다.\n",
        "\n",
        "\n",
        "[입력]\n",
        "\n",
        "가장 첫 줄에는 테스트 케이스의 개수 T가 주어지고, 그 아래로 각 테스트 케이스가 주어진다.\n",
        "\n",
        "각 테스트 케이스에는 N이 주어지고 다음 줄부터 N+1줄까지 Ci와 Ki가 빈 칸을 사이에 두고 주어진다.\n",
        "\n",
        "\n",
        "[출력]\n",
        "\n",
        "각 줄은 '#t'로 시작하고, 다음 줄부터 원본 문서를 출력한다.\n",
        "\n",
        "(t는 테스트 케이스의 번호를 의미하며 1부터 시작한다.)\n",
        "'''"
      ]
    },
    {
      "cell_type": "markdown",
      "metadata": {
        "id": "TDs6-ao1rynd",
        "colab_type": "text"
      },
      "source": [
        "입력\n",
        "```\n",
        "1\n",
        "3\n",
        "A 10\n",
        "B 7\n",
        "C 5       \n",
        "```\n",
        "출력\n",
        "```\n",
        "#1\n",
        "AAAAAAAAAA\n",
        "BBBBBBBCCC\n",
        "CC\n",
        "```"
      ]
    },
    {
      "cell_type": "code",
      "metadata": {
        "id": "prTgFRMHkKbB",
        "colab_type": "code",
        "colab": {}
      },
      "source": [
        "char_list.append()"
      ],
      "execution_count": null,
      "outputs": []
    },
    {
      "cell_type": "code",
      "metadata": {
        "id": "Dx_Rhqmbrt3E",
        "colab_type": "code",
        "colab": {
          "base_uri": "https://localhost:8080/",
          "height": 161
        },
        "outputId": "5fd676b1-d287-4a21-dec9-9e14ff5665c3"
      },
      "source": [
        "T = int(input())\n",
        "\n",
        "for t in range(1,T+1):\n",
        "  print(f'#{t}')\n",
        "  n = int(input())\n",
        "  char_list = []\n",
        "  for k in range(n):\n",
        "    char, number = input().split()\n",
        "    char_list.extend(char*int(number))\n",
        "\n",
        "  while len(char_list) > 10:\n",
        "    print(''.join(char_list[:10]))\n",
        "    char_list = char_list[10:]\n",
        "  print(''.join(char_list))"
      ],
      "execution_count": null,
      "outputs": [
        {
          "output_type": "stream",
          "text": [
            "1\n",
            "3\n",
            "A 10\n",
            "B 7\n",
            "C 5\n",
            "AAAAAAAAAA\n",
            "BBBBBBBCCC\n",
            "CC\n"
          ],
          "name": "stdout"
        }
      ]
    },
    {
      "cell_type": "markdown",
      "metadata": {
        "id": "sstQrO9hsry2",
        "colab_type": "text"
      },
      "source": [
        "## 1948. 날짜 계산기\n",
        "\n",
        "'''\n",
        "\n",
        "월 일로 이루어진 날짜를 2개 입력 받아, 두 번째 날짜가 첫 번째 날짜의 며칠째인지 출력하는 프로그램을 작성하라.\n",
        "\n",
        "\n",
        "[제약 사항]\n",
        "\n",
        "월은 1 이상 12 이하의 정수이다. 각 달의 마지막 날짜는 다음과 같다.\n",
        "\n",
        "1/31, 2/28, 3/31, 4/30, 5/31, 6/30, 7/31, 8/31, 9/30, 10/31, 11/30, 12/31\n",
        "\n",
        "두 번째 날짜가 첫 번째 날짜보다 항상 크게 주어진다.\n",
        "\n",
        "\n",
        "[입력]\n",
        "\n",
        "가장 첫 줄에는 테스트 케이스의 개수 T가 주어지고, 그 아래로 각 테스트 케이스가 주어진다.\n",
        "\n",
        "각 테스트 케이스의 첫 번째 줄에는 4개의 수가 주어진다.\n",
        "\n",
        "첫 번째 수가 월을 나타내고 두 번째 수가 일을 나타낸다. 그 다음 같은 형식으로 두 번째 날짜가 주어진다.\n",
        "\n",
        "\n",
        "[출력]\n",
        "\n",
        "출력의 각 줄은 '#t'로 시작하고, 공백을 한 칸 둔 다음 정답을 출력한다. (t는 테스트 케이스의 번호를 의미하며 1부터 시작한다.)\n",
        "'''\n"
      ]
    },
    {
      "cell_type": "markdown",
      "metadata": {
        "id": "KIbXCuOWsvEm",
        "colab_type": "text"
      },
      "source": [
        "입력\n",
        "```\n",
        "3 \n",
        "3 1 3 31\n",
        "5 5 8 15\n",
        "7 17 12 24    \n",
        "```\n",
        "\n",
        "출력\n",
        "```\n",
        "#1 31\n",
        "#2 103\n",
        "#3 161\n",
        "```"
      ]
    },
    {
      "cell_type": "code",
      "metadata": {
        "id": "jjY2btPgr_45",
        "colab_type": "code",
        "colab": {
          "base_uri": "https://localhost:8080/",
          "height": 143
        },
        "outputId": "34d975aa-e852-4833-fa8d-be700003e738"
      },
      "source": [
        "T = int(input())\n",
        "\n",
        "for t in range(1,T+1):\n",
        "  day_list = list(map(int,input().split()))\n",
        "  pre_m = day_list[0]\n",
        "  pre_d = day_list[1]\n",
        "  cur_m = day_list[2]\n",
        "  cur_d = day_list[3]\n",
        "  full_month = [1,3,5,7,8,10,12]\n",
        "  result = 0\n",
        "  if pre_m == cur_m:\n",
        "    result = cur_d - pre_d + 1\n",
        "  else:\n",
        "    for m in range(pre_m,cur_m):\n",
        "      if m in full_month:\n",
        "        result += 31\n",
        "      elif m == 2:\n",
        "        result += 28\n",
        "      else:\n",
        "        result += 30\n",
        "    \n",
        "    result += cur_d + 1\n",
        "    result -= pre_d\n",
        "\n",
        "  print(f'#{t}',result)"
      ],
      "execution_count": null,
      "outputs": [
        {
          "output_type": "stream",
          "text": [
            "3\n",
            "3 1 3 31\n",
            "#1 31\n",
            "5 5 8 15\n",
            "#2 103\n",
            "7 17 12 24\n",
            "#3 161\n"
          ],
          "name": "stdout"
        }
      ]
    },
    {
      "cell_type": "markdown",
      "metadata": {
        "id": "65iKEHEKtrTH",
        "colab_type": "text"
      },
      "source": [
        "## 1954. 달팽이 숫자\n",
        "\n",
        "'''\n",
        "달팽이는 1부터 N*N까지의 숫자가 시계방향으로 이루어져 있다.\n",
        "\n",
        "다음과 같이 정수 N을 입력 받아 N크기의 달팽이를 출력하시오.\n",
        "\n",
        "\n",
        "[예제]\n",
        "\n",
        "N이 3일 경우,\n",
        " \n",
        "![image.png](data:image/png;base64,iVBORw0KGgoAAAANSUhEUgAAALYAAACmCAYAAAB3JnWfAAAN7UlEQVR4Ae2de3BU1R3HneIf4MjIMGEcK87Y+gg6jrVCH0OnU1EplYmPYlE3K488TChEbQMSAlpAY4IKxQJKU5RYlAIVMcij0lQEUSmIYEpMAAOEvMg72SRkQzbZb2c3K7m7RPbsveecuZv5MnPHe+/+zu/87uf32cPd4OZeBv4hgQFI4LIBeE28JBIAxaYEA5IAxR6QbeVFUWw6MCAJUOwB2VZeFMWmAwOSAMUekG3lRVFsOjAgCVDsAdlWXpRlsW+77TZwIwMRBzIyMrS94yyLHRsbq61YmRONHj1aZjptuV555RVs27ZN23yyJqqqqoLT6ZSVLmweih0Wkb0CKLZYPyi2GCfbRFFssVZQbDFOtomi2GKtoNhinGwTRbHFWkGxxTjZJopii7WCYotxsk0UxRZrBcUW42SbKIot1gqKLcbJNlEUW6wVFFuMk22iKLZYKyi2GCfbRFFssVZQbDFOtomi2GKtoNhinGwTRbHFWkGxxTjZJopii7WCYotxsk0UxRZrBcUW42SbKIot1gqKLcbJNlEUW6wVFFuMk22iKLZYKyi2GCfbRFFssVbYWOxGbJv3IH7/zGZUil1LRFFqvhp2HsUFa5ASF4e4uDg4pufgSHNEZYUNViV2j+cAFgbqjsvKD1tHpAH8ahg6cXjDAoy5bigGD7oMt/7iJRyPlKJAvAqx3U012LTyBRyqdMHlcmHHvHG4f+YGVAvUIxqiSuzS3Newz+Wr+zTykn+CuL+dEi1JKI5iGzF9ODOqxDaW7ttvqdqNRTOT8N+q0FfMH6sS21hR157FGHzfGtQZT1rcp9hGgFEudn3RRsxN/ROKWowXZW1fvdhNKMiYivFvlFgrNGQ0xTYCiWqxj2L5/fdg+ftn4DZek8V9VWL3eL5A1qRJmDRpJpbmfoCT7RYLDRlOsY1AolbsOqyfPgqTVxWis9t4Qdb3VYkNnIervh719Yew5N6fYmTGbuvFGjJQbAMMRJ3YXnS2leGdZx/F6HlbjFcibV+d2MYSP0fq4HHIl/jZgGIb+UaZ2B53M95blYbErLfQ2N5lvBJp+2rErsHeveUXaqw5vBTj7khHocTPBhQbQM1X+cic5YDjrptw1Yg7EOdw4OX8o/B6L7C3vKPix301BUsw6oar8fPxD8LhcPi32Tm5+KbJcrkXEqgRuwH7cxdfqHl80tPYdEjmDykBig2gu7MNdTVVfhg+IL6tsa3zQnNl7KgQu/tcU1DNvrprG5rRJfE+W43YgNfd3Fd7Y5sMxEE5KHYQDnUHKsRWV21fZlVi982gZo9iq+F6UVaKfRESpScotlK8fckpdh8LHXsUWwdlABRbE+jANBRbE2+KrQk0xdYLmmLr5c0VWxNviq0JdGAaiq2JN8XWBJpi6wVNsfXy5oqtiTfF1gQ6MA3F1sSbYmsCTbH1gqbYenlzxdbEm2JrAh2YhmJr4k2xNYGm2HpBU2y9vLlia+JNsTWBDkxDsTXxptiaQEer2CNHjsTOnTujbrvxxhujrmYf5+TkZCxatCjqan/77bfhdDq1vZss/+6+ESNGIDs7O+q2a6+9Nupq9nGeOHEipk2bFnW1Z2ZmRpfYsbGx2t6FMifirYhMmuFz8R47PCMpERRbCkbhJBRbGJW1QIptjV+koyl2pMRMxlNsk+BMDqPYJsFFOoxiR0rMWjzFtsZPeDTFFkYlJZBiS8EYPgnFDs9IZgTFlknzErko9iXgKHiJYiuA2l9Kit0fFXXnKLY6tkGZKXYQDuUHFFs54t4JKLYm0IFpKLYm3hRbE2iKrRc0xdbLmyu2Jt4UWxPowDQUWxNviq0JNMXWC5pi6+XNFVsTb4qtCXRgGoqtiTfF1gSaYgeD7mg8g5KSYhQXn0BlXSskPnjLP5EqsT0dLThT6qu7GCcqmuEJvizLR6ofruR78tmpb47hLB85Lf+rYa7yw1iW/jAcqSlIejwRibP/gsN1ch/RpkJs32P8duYtwIwUJ1JTU/GQIxXvHamEzEeZKhXb04qDec9jzE1DMWuX5fdgUALeiqALhZvmwznvDTR1e9HdUYk3M9Ox3PcA0yBU1g5UiN3w1XokOp7EJ+Xn/MV9tTUds1JyUea2VqtxtDqxvag/tgNZzzyFtAk3UGz5X+Z144t1szF5wd/h6fECndVYN3sBVu0qtr3YZ/e8jNSpb6C8p1fFlsoCLJyRgoMSH3KrSmxvjwf/WJqEF/P3YH3SHRRbvtgAWgqR9WgiXio4gX1bc5CetgylEh/b7NNOxYpd8/kKpExZiRPu3jvr2pLNSHpkMj4saTUuupb2VYndWv0mFj6WhzNowMYnKDZUiH2+vhQ7tryFF5MSkfb0YqzetAulDXI/zagQ291SgpdmT0PGC8uwdu1arHg+FRMmx2N3qbx7ESVi1/0P6TPuw79P+d5zFNu/8kgXu6sFH696DonpeSjr9uJc03HkZiYg658H4ZV4k61CbKAHzRVHsW3DWr/YW/ftw4rnMlHYaGmRDhosX+w2HFz6ML43ajwSEhKQkODAXTcPx6gJyViy8TB6Py0ElWDqgB8e3WexbnYmXt1xFL23ql4c/2AxpuSsh++WW9YfNWIHV1e2JQNTsrajOXDPHfyquSP5Ynejvb4SJ0+eDGxfYsVjt2LKW6dQ3Xgu0ANztRpHUWy4sHvlk3jgiZUoO1OOiqLP8Nx0BzLeLbT9h0d3ays+2f4+jldUoGL/Cky8fSzeLTG21/q+fLFDa+KtiJ+I9FsRf9Za/CtnPpzx8YiPT0TO2o/QcD60AdaOlazY3R04sm0VZvjrXoC99dZq7G+0erHbsH/NPOQV9je7+XNcsc2zi2ikErEjqsBcsHqxzdUVbhTFDkdI0usUWxJIwTQUWxCU1TCKbZVgZOMpdmS8TEdTbNPoTA2k2KawRT6IYkfOzMoIim2FXgRjKXYEsCSEUmwJEEVSUGwRSvJiKLY8lpfMRLEviUf6ixRbOtL+E1Ls/rmoOkuxVZENyUuxQ4AoPqTYigF/m55if0tCz38pth7OSr5ooKN0/pO6GGXLDzBV8z9BiRVvJYorthV6kY/lih05M1MjKLYpbKYHUWzT6CIbSLEj42U1mmJbJSg4nmILgpIURrElgQyXhmKHIyT3dYotl+d3ZqPY34lGyQsUWwnWi5NS7IuZqDwTdWIPGTIEY8eOjbrtyiuvjLqafZyvv/563HLLLVFX+5gxY+B0OlW+d4Jy8+fYQTjsf8B/oBHrEcUW42SbKIot1gqKLcbJNlEUW6wVFFuMk22iKLZYKyi2GCfbRFFssVZQbDFOtomi2GKtoNhinGwTRbHFWkGxxTjZJopii7WCYotxsk0UxRZrBcUW42SbKIot1gqKLcbJNlEUW6wVFFuMk22iKLZYKyi2GCfbRFFssVZQbDFOtomi2GKtoNhinGwTRbHFWkGxxTjZJopii7WCYotxsk0UxRZrBcUW42SbKIot1gqKLcbJNlEUW6wV9hO7x4O25nr4vvxp3GpbZD38uBeMui/zetHZ1oSz1VWoPluDtk6Jj+UFoErsrrZg5tUN7egWc0goKuq+zCv9d/e11yJ/9bNwOByB7WH86vY78buc7VHwyOkeuKq/xNI5U+F4dDIen56CvILj6BBqvViQKrGLl43FNXf++gL3qS/sQpNYSUJRFDsEU1fLSSxbuAhbD1WEvGLtUMWK3e1uxsbX52LO6h1odXvQc/486ioq0G6t1KDRysRe/ktMePVg0FwyDyh2CM2ar9/H/IwFOFoj8y9GKPk1wm21+7E4LQEfn+4KuQp5hxRbjKX97rFD6t77+iw89eYBqX+d+6ZQsWI3nHoHf7w7HtMfvAffj4nBdT+8GbkHOtDtDbkoC4eqxD7+2m8QExODmJjhGPrjWTjU4obMTwdcsY1Nby9F1rQHsOVYq/GslH0VYp/dk417x8xAflGF/4NX1c4leGjaXHxZ55FSsy+JKrH7CmzFp8sewTU/ykSRu++s1T2KbSBY/0ESJqRuRrPhnKxdVWLHT8rC167eKjubziD72QRsPlIvq2wNYgNo24XJg8chv0pa2f6fcPE3Qfl5FmHhD67C/AKZH736GqVC7OayHchMTsWB6t55OhpOI3ueA9uL5L011a/YAGq2YDzFju2zRdqeF57PlmLI3SshcdEIqk6F2J7WWvw54bf4Q+5/UOty4ejqVDyQtgEBz4PmN3ugRuwq/PWpV3HM5YLLdRrrUn6Gq+d8ZLbEfsfxVsSPpQ3718zF3PzyfiHJOKlCbF9dHeVfIDvdibi4OExJXocyGcUacqgRG/AcWOGv2Vd32ppPDTPK2aXYcjiGzaJK7LATWwxQJbbFssIOp9hhEckJoNhyOIpmodiipCzGUWyLACMcTrEjBGY2nGKbJWduHMU2xy3iURQ7YmSWBlBsS/jEB1NscVYyIim2DIoCOSi2ACSJIRRbIsxLpaLYl6Ij/zWKLZ9pvxkpdr9YlJ2k2MrQBiem2ME8VB9RbNWEA/kptibQgWkotibeFFsTaIqtFzTF1subK7Ym3hRbE+jANBRbE2+KrQk0xdYLmmLr5c0VWxNviq0JdGAaiq2JN8XWBDpaxR40aBCGDx8eddvll18edTX7OF9xxRUYOnRo1NU+bNgwRNW31PW+7zkbCYgRsPyboMSmYRQJ6CVAsfXy5myaCFBsTaA5jV4CFFsvb86miQDF1gSa0+glQLH18uZsmghQbE2gOY1eAhRbL2/OpokAxdYEmtPoJUCx9fLmbJoI/B9k5Ckm6tx4eAAAAABJRU5ErkJggg==)\n",
        "\n",
        "\n",
        "N이 4일 경우,\n",
        " \n",
        "![image.png](data:image/png;base64,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)\n",
        "\n",
        "[제약사항]\n",
        "\n",
        "달팽이의 크기 N은 1 이상 10 이하의 정수이다. (1 ≤ N ≤ 10)\n",
        "\n",
        "\n",
        "[입력]\n",
        "\n",
        "가장 첫 줄에는 테스트 케이스의 개수 T가 주어지고, 그 아래로 각 테스트 케이스가 주어진다.\n",
        "\n",
        "각 테스트 케이스에는 N이 주어진다.\n",
        "\n",
        "\n",
        "[출력]\n",
        "\n",
        "각 줄은 '#t'로 시작하고, 다음 줄부터 빈칸을 사이에 두고 달팽이 숫자를 출력한다.\n",
        "\n",
        "(t는 테스트 케이스의 번호를 의미하며 1부터 시작한다.)\n",
        "'''"
      ]
    },
    {
      "cell_type": "markdown",
      "metadata": {
        "id": "Wg4RkKYPtvJv",
        "colab_type": "text"
      },
      "source": [
        "입력\n",
        "```\n",
        "2    \n",
        "3   \n",
        "4       \n",
        "```\n",
        "\n",
        "출력\n",
        "```\n",
        "#1\n",
        "1 2 3\n",
        "8 9 4\n",
        "7 6 5\n",
        "#2\n",
        "1 2 3 4\n",
        "12 13 14 5\n",
        "11 16 15 6\n",
        "10 9 8 7\n",
        "```"
      ]
    },
    {
      "cell_type": "code",
      "metadata": {
        "id": "H9TC5kU25-qM",
        "colab_type": "code",
        "colab": {
          "base_uri": "https://localhost:8080/",
          "height": 230
        },
        "outputId": "966ad80e-dc65-420f-c859-70a47cd15d01"
      },
      "source": [
        "def solve(arr):\n",
        "    global N\n",
        "    X, Y = 0, 0\n",
        "    newX, newY = 0, 0\n",
        "    dx = [1, 0, -1, 0]\n",
        "    dy = [0, 1, 0, -1]\n",
        "    dir_stat = 0  # 0:왼쪽, 1:아래, 2:오른쪽, 3:위\n",
        "    num = 1\n",
        "    for i in range(N*N):\n",
        "        X, Y = newX, newY\n",
        "        arr[Y][X] = num\n",
        "        newX = X + dx[dir_stat]\n",
        "        newY = Y + dy[dir_stat]\n",
        "\n",
        "        if  newY >= N or newX >= N or newY < 0 or newX < 0 or arr[newY][newX] != 0:\n",
        "            dir_stat =(dir_stat + 1) % 4\n",
        "            newX = X + dx[dir_stat]\n",
        "            newY = Y + dy[dir_stat]\n",
        "\n",
        "        num += 1\n",
        "\n",
        "\n",
        "T = int(input())\n",
        "for tc in range(T):\n",
        "    N = int(input())\n",
        "    arr = [[0 for _ in range(N)] for _ in range(N)]\n",
        "\n",
        "    solve(arr)\n",
        "        \n",
        "    #출력\n",
        "    print(\"#{}\".format(tc+1))\n",
        "    for i in range(N):\n",
        "        for j in range(N):\n",
        "            print(arr[i][j], end=\" \")\n",
        "        print()"
      ],
      "execution_count": null,
      "outputs": [
        {
          "output_type": "stream",
          "text": [
            "2\n",
            "3\n",
            "#1\n",
            "1 2 3 \n",
            "8 9 4 \n",
            "7 6 5 \n",
            "4\n",
            "#2\n",
            "1 2 3 4 \n",
            "12 13 14 5 \n",
            "11 16 15 6 \n",
            "10 9 8 7 \n"
          ],
          "name": "stdout"
        }
      ]
    },
    {
      "cell_type": "markdown",
      "metadata": {
        "id": "6RrNi2hLubkf",
        "colab_type": "text"
      },
      "source": [
        "## 1959. 두 개의 숫자열\n",
        "\n",
        "'''\n",
        "N 개의 숫자로 구성된 숫자열 Ai (i=1~N) 와 M 개의 숫자로 구성된 숫자열 Bj (j=1~M) 가 있다.\n",
        "\n",
        "아래는 N =3 인 Ai 와 M = 5 인 Bj 의 예이다.\n",
        "![image.png](data:image/png;base64,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)\n",
        "\n",
        "Ai 나 Bj 를 자유롭게 움직여서 숫자들이 서로 마주보는 위치를 변경할 수 있다.\n",
        "\n",
        "단, 더 긴 쪽의 양끝을 벗어나서는 안 된다.\n",
        " \n",
        "![image.png](data:image/png;base64,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)\n",
        "\n",
        "\n",
        "서로 마주보는 숫자들을 곱한 뒤 모두 더할 때 최댓값을 구하라.\n",
        "\n",
        "위 예제의 정답은 아래와 같이 30 이 된다.\n",
        " \n",
        "![image.png](data:image/png;base64,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)\n",
        "\n",
        "[제약 사항]\n",
        "\n",
        "N 과 M은 3 이상 20 이하이다.\n",
        "\n",
        "\n",
        "[입력]\n",
        "\n",
        "가장 첫 줄에는 테스트 케이스의 개수 T가 주어지고, 그 아래로 각 테스트 케이스가 주어진다.\n",
        "\n",
        "각 테스트 케이스의 첫 번째 줄에 N 과 M 이 주어지고,\n",
        "\n",
        "두 번째 줄에는 Ai,\n",
        "\n",
        "세 번째 줄에는 Bj 가 주어진다.\n",
        "\n",
        "[출력]\n",
        "\n",
        "출력의 각 줄은 '#t'로 시작하고, 공백을 한 칸 둔 다음 정답을 출력한다.\n",
        "\n",
        "(t는 테스트 케이스의 번호를 의미하며 1부터 시작한다.)\n",
        "\n",
        "'''"
      ]
    },
    {
      "cell_type": "markdown",
      "metadata": {
        "id": "QE3upujdubce",
        "colab_type": "text"
      },
      "source": [
        "입력\n",
        "```\n",
        "10\n",
        "3 5\n",
        "1 5 3\n",
        "3 6 -7 5 4\n",
        "7 6\n",
        "6 0 5 5 -1 1 6\n",
        "-4 1 8 7 -9 3\n",
        "```\n",
        "\n",
        "출력\n",
        "```\n",
        "#1 30\n",
        "#2 63\n",
        "```"
      ]
    },
    {
      "cell_type": "code",
      "metadata": {
        "id": "4rh5-MG_uK5W",
        "colab_type": "code",
        "colab": {
          "base_uri": "https://localhost:8080/",
          "height": 141
        },
        "outputId": "d5aec7a7-ea26-4f10-d267-3be8183c3c41"
      },
      "source": [
        "T = int(input())\n",
        "\n",
        "for t in range(1,T+1):\n",
        "  a,b = map(int,input().split())\n",
        "  A = list(map(int,input().split()))\n",
        "  B = list(map(int,input().split()))\n",
        "  \n",
        "\n",
        "  if a<b:\n",
        "    max_val=0\n",
        "    for x in range(a):\n",
        "      max_val += A[x] * B[x]\n",
        "    for j in range(b-a+1):\n",
        "      total = 0\n",
        "      for i in range(a):\n",
        "        total += A[i] * B[i+j]\n",
        "      if total > max_val:\n",
        "        max_val = total\n",
        "  else:\n",
        "    A,B = B,A\n",
        "    a,b = b,a\n",
        "    max_val = 0\n",
        "    for x in range(a):\n",
        "      max_val += A[x] * B[x]\n",
        "    for j in range(b-a+1):\n",
        "      total = 0\n",
        "      for i in range(a):\n",
        "        total += A[i] * B[i+j]\n",
        "      if total > max_val:\n",
        "        max_val = total\n",
        "    \n",
        "  print(f'#{t}',max_val)"
      ],
      "execution_count": null,
      "outputs": [
        {
          "output_type": "stream",
          "text": [
            "1\n",
            "7 6\n",
            "6 0 5 5 -1 1 6\n",
            "-4 1 8 7 -9 3\n",
            "63\n",
            "47\n",
            "63\n"
          ],
          "name": "stdout"
        }
      ]
    },
    {
      "cell_type": "code",
      "metadata": {
        "id": "KF05KWvtz6Rr",
        "colab_type": "code",
        "colab": {
          "base_uri": "https://localhost:8080/",
          "height": 35
        },
        "outputId": "474f6b5b-1ddd-4814-8384-0d87cda3af0f"
      },
      "source": [
        "5 + 40 + -7 -9 +18"
      ],
      "execution_count": null,
      "outputs": [
        {
          "output_type": "execute_result",
          "data": {
            "text/plain": [
              "47"
            ]
          },
          "metadata": {
            "tags": []
          },
          "execution_count": 9
        }
      ]
    },
    {
      "cell_type": "markdown",
      "metadata": {
        "id": "wYBz-OIiuuHf",
        "colab_type": "text"
      },
      "source": [
        "## 1961. 숫자 배열 회전\n",
        "\n",
        "'''\n",
        "N x N 행렬이 주어질 때,\n",
        "\n",
        "시계 방향으로 90도, 180도, 270도 회전한 모양을 출력하라.\n",
        "\n",
        "\n",
        "[제약 사항]\n",
        "\n",
        "N은 3 이상 7 이하이다.\n",
        "\n",
        "[입력]\n",
        "\n",
        "가장 첫 줄에는 테스트 케이스의 개수 T가 주어지고, 그 아래로 각 테스트 케이스가 주어진다.\n",
        "\n",
        "각 테스트 케이스의 첫 번째 줄에 N이 주어지고,\n",
        "\n",
        "다음 N 줄에는 N x N 행렬이 주어진다.\n",
        "\n",
        "[출력]\n",
        "\n",
        "출력의 첫 줄은 '#t'로 시작하고,\n",
        "\n",
        "다음 N줄에 걸쳐서 90도, 180도, 270도 회전한 모양을 출력한다.\n",
        "\n",
        "입력과는 달리 출력에서는 회전한 모양 사이에만 공백이 존재함에 유의하라.\n",
        "\n",
        "(t는 테스트 케이스의 번호를 의미하며 1부터 시작한다.)\n",
        "'''"
      ]
    },
    {
      "cell_type": "markdown",
      "metadata": {
        "id": "f9hbEUM0uunV",
        "colab_type": "text"
      },
      "source": [
        "입력\n",
        "```\n",
        "10\n",
        "3\n",
        "1 2 3\n",
        "4 5 6\n",
        "7 8 9\n",
        "6\n",
        "6 9 4 7 0 5\n",
        "8 9 9 2 6 5\n",
        "6 8 5 4 9 8\n",
        "2 2 7 7 8 4\n",
        "7 5 1 9 7 9\n",
        "8 9 3 9 7 6\n",
        "…\n",
        "```\n",
        "\n",
        "출력\n",
        "```\n",
        "#1\n",
        "741 987 369\n",
        "852 654 258\n",
        "963 321 147\n",
        "#2\n",
        "872686 679398 558496\n",
        "952899 979157 069877\n",
        "317594 487722 724799\n",
        "997427 894586 495713\n",
        "778960 562998 998259\n",
        "694855 507496 686278\n",
        "```"
      ]
    },
    {
      "cell_type": "code",
      "metadata": {
        "id": "G4nl2GL3up7w",
        "colab_type": "code",
        "colab": {
          "base_uri": "https://localhost:8080/",
          "height": 158
        },
        "outputId": "179f8384-9f42-4f5a-b45d-d5f247475cbc"
      },
      "source": [
        "T = int(input())\n",
        "\n",
        "for t in range(1,T+1):\n",
        "  print('#{}'.format(t))\n",
        "  N = int(input())\n",
        "  numbers = [list(map(int,input().split())) for _ in range(N)]\n",
        "\n",
        "  results = []\n",
        "  new_numbers = [[0]*N for _ in range(N)]\n",
        "  for k in range(3):\n",
        "    for i in range(N):\n",
        "      for j in range(N):\n",
        "        new_numbers[i][j] = numbers[j][N-1-i]\n",
        "    results.append(new_numbers)\n",
        "    numbers = new_numbers\n",
        "    new_numbers = [[0]*N for _ in range(N)]\n",
        "  \n",
        "  for a in range(N):\n",
        "    for b in range(3):\n",
        "      for r in results[2-b][a]:\n",
        "        print(r,end='')\n",
        "      print(end=\" \")\n",
        "    print()"
      ],
      "execution_count": null,
      "outputs": [
        {
          "output_type": "stream",
          "text": [
            "1\n",
            "3\n",
            "1 2 3\n",
            "4 5 6\n",
            "7 8 9\n",
            "741 987 369 \n",
            "852 654 258 \n",
            "963 321 147 \n"
          ],
          "name": "stdout"
        }
      ]
    },
    {
      "cell_type": "markdown",
      "metadata": {
        "id": "FYCGWYU96LXk",
        "colab_type": "text"
      },
      "source": [
        "## 1966. 숫자를 정렬하자\n",
        "\n",
        "'''\n",
        "주어진 N 길이의 숫자열을 오름차순으로 정렬하여 출력하라.\n",
        "\n",
        "[제약 사항]\n",
        "\n",
        "N 은 5 이상 50 이하이다.\n",
        "\n",
        "\n",
        "[입력]\n",
        "\n",
        "가장 첫 줄에는 테스트 케이스의 개수 T가 주어지고, 그 아래로 각 테스트 케이스가 주어진다.\n",
        "\n",
        "각 테스트 케이스의 첫 번째 줄에 N 이 주어지고, 다음 줄에 N 개의 숫자가 주어진다.\n",
        "\n",
        "\n",
        "[출력]\n",
        "\n",
        "출력의 각 줄은 '#t'로 시작하고, 공백을 한 칸 둔 다음 정답을 출력한다.\n",
        "\n",
        "(t는 테스트 케이스의 번호를 의미하며 1부터 시작한다.)\n",
        "'''"
      ]
    },
    {
      "cell_type": "markdown",
      "metadata": {
        "id": "YLZm8EsY6LQc",
        "colab_type": "text"
      },
      "source": [
        "입력\n",
        "```\n",
        "10\n",
        "5\n",
        "1 4 7 8 0\n",
        "...\n",
        "```\n",
        "\n",
        "출력\n",
        "```\n",
        "#1 0 1 4 7 8\n",
        "...\n",
        "```"
      ]
    },
    {
      "cell_type": "code",
      "metadata": {
        "id": "L_yaqTt550cy",
        "colab_type": "code",
        "colab": {
          "base_uri": "https://localhost:8080/",
          "height": 141
        },
        "outputId": "b1f1fe5c-26a1-4fb4-9bfc-fa5ddaa70a56"
      },
      "source": [
        "T = int(input())\n",
        "\n",
        "for t in range(1,T+1):\n",
        "  n = int(input())\n",
        "  numbers = list(map(int,input().split()))\n",
        "  \n",
        "  for i in range(n):\n",
        "    min_num = numbers[i]\n",
        "    for j in range(n-i):\n",
        "      if numbers[i+j] < min_num:\n",
        "        numbers[i+j], numbers[i] = numbers[i], numbers[i+j] \n",
        "        min_num = numbers[i]\n",
        "  \n",
        "  print(f'#{t}',end=' ')\n",
        "  for i in range(len(numbers)):\n",
        "    print(numbers[i],end=' ')\n",
        "  print('')"
      ],
      "execution_count": null,
      "outputs": [
        {
          "output_type": "stream",
          "text": [
            "2\n",
            "5\n",
            "1 4 7 8 0\n",
            "#1 0 1 4 7 8 \n",
            "3\n",
            "0 5 2\n",
            "#2 0 2 5 \n"
          ],
          "name": "stdout"
        }
      ]
    },
    {
      "cell_type": "markdown",
      "metadata": {
        "id": "-XCXZjdx9T7U",
        "colab_type": "text"
      },
      "source": [
        "## 1970. 쉬운 거스름돈\n",
        "\n",
        "'''\n",
        "우리나라 화폐 ‘원’은 금액이 높은 돈을 우선적으로 계산할 때 돈의 개수가 가장 최소가 된다.\n",
        "\n",
        "S마켓에서 사용하는 돈의 종류는 다음과 같다.\n",
        "50,000 원\n",
        "10,000 원\n",
        "5,000 원\n",
        "1,000 원\n",
        "500 원\n",
        "100 원\n",
        "50 원\n",
        "10 원\n",
        "\n",
        "S마켓에서 손님에게 거슬러 주어야 할 금액 N이 입력되면 돈의 최소 개수로 거슬러 주기 위하여 각 종류의 돈이 몇 개씩 필요한지 출력하라.\n",
        "\n",
        "\n",
        "[예제]\n",
        "\n",
        "N이 32850일 경우,\n",
        "50,000 원 : 0개\n",
        "10,000 원 : 3개\n",
        "5,000 원 : 0개\n",
        "1,000 원 : 2개\n",
        "500 원 : 1개\n",
        "100 원 : 3개\n",
        "50 원 : 1개\n",
        "10 원 : 0개\n",
        "\n",
        "\n",
        "[제약 사항]\n",
        "\n",
        "1. N은 10이상 1,000,000이하의 정수이다. (10 ≤ N ≤ 1,000,000)\n",
        "\n",
        "2. N의 마지막 자릿수는 항상 0이다. (ex : 32850)\n",
        "\n",
        "\n",
        "[입력]\n",
        "\n",
        "가장 첫 줄에는 테스트 케이스의 개수 T가 주어지고, 그 아래로 각 테스트 케이스가 주어진다.\n",
        "\n",
        "각 테스트 케이스에는 N이 주어진다.\n",
        "\n",
        "\n",
        "[출력]\n",
        "\n",
        "각 줄은 '#t'로 시작하고, 다음줄에 각 돈의 종류마다 필요한 개수를 빈칸을 사이에 두고 출력한다.\n",
        "\n",
        "(t는 테스트 케이스의 번호를 의미하며 1부터 시작한다.)\n",
        "'''"
      ]
    },
    {
      "cell_type": "markdown",
      "metadata": {
        "id": "rK41Y-Xc9Tlt",
        "colab_type": "text"
      },
      "source": [
        "입력\n",
        "```\n",
        "2 \n",
        "32850\n",
        "160    \n",
        "```\n",
        "\n",
        "출력\n",
        "```\n",
        "#1\n",
        "0 3 0 2 1 3 1 0\n",
        "#2\n",
        "0 0 0 0 0 1 1 1\n",
        "```"
      ]
    },
    {
      "cell_type": "code",
      "metadata": {
        "id": "oclOj2GJ8di6",
        "colab_type": "code",
        "colab": {
          "base_uri": "https://localhost:8080/",
          "height": 145
        },
        "outputId": "a353667a-b2c9-4dd3-844c-a2768a61da86"
      },
      "source": [
        "T = int(input())\n",
        "\n",
        "for t in range(1,T+1):\n",
        "  n = int(input())\n",
        "  coint_list = [50000,10000,5000,1000,500,100,50,10]\n",
        "  cnt_list = []\n",
        "  print(f'#{t}')\n",
        "  for i in range(len(coint_list)):\n",
        "    cnt_list.append(n//coint_list[i])\n",
        "    n = n%coint_list[i]\n",
        "  \n",
        "  for x in cnt_list:\n",
        "    print(x,end=' ')\n",
        "  print('')"
      ],
      "execution_count": null,
      "outputs": [
        {
          "output_type": "stream",
          "text": [
            "2\n",
            "32850\n",
            "#1\n",
            "0 3 0 2 1 3 1 0 \n",
            "160\n",
            "#2\n",
            "0 0 0 0 0 1 1 1 \n"
          ],
          "name": "stdout"
        }
      ]
    },
    {
      "cell_type": "markdown",
      "metadata": {
        "id": "VAB343pMdTJT",
        "colab_type": "text"
      },
      "source": [
        "## 1974. 스도쿠 검증\n",
        "\n",
        "'''\n",
        "스도쿠는 숫자퍼즐로, 가로 9칸 세로 9칸으로 이루어져 있는 표에 1 부터 9 까지의 숫자를 채워넣는 퍼즐이다.\n",
        " \n",
        "![image.png](data:image/png;base64,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)\n",
        "\n",
        "\n",
        "같은 줄에 1 에서 9 까지의 숫자를 한번씩만 넣고, 3 x 3 크기의 작은 격자 또한, 1 에서 9 까지의 숫자가 겹치지 않아야 한다.\n",
        " \n",
        "![image.png](data:image/png;base64,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)\n",
        "\n",
        "입력으로 9 X 9 크기의 스도쿠 퍼즐의 숫자들이 주어졌을 때, 위와 같이 겹치는 숫자가 없을 경우, 1을 정답으로 출력하고 그렇지 않을 경우 0 을 출력한다.\n",
        "\n",
        "\n",
        "[제약 사항]\n",
        "\n",
        "1. 퍼즐은 모두 숫자로 채워진 상태로 주어진다.\n",
        "\n",
        "2. 입력으로 주어지는 퍼즐의 모든 숫자는 1 이상 9 이하의 정수이다.\n",
        "\n",
        "\n",
        "[입력]\n",
        "\n",
        "입력은 첫 줄에 총 테스트 케이스의 개수 T가 온다.\n",
        "\n",
        "다음 줄부터 각 테스트 케이스가 주어진다.\n",
        "\n",
        "테스트 케이스는 9 x 9 크기의 퍼즐의 데이터이다.\n",
        "\n",
        "\n",
        "[출력]\n",
        "\n",
        "테스트 케이스 t에 대한 결과는 “#t”을 찍고, 한 칸 띄고, 정답을 출력한다.\n",
        "\n",
        "(t는 테스트 케이스의 번호를 의미하며 1부터 시작한다.)\n",
        "'''"
      ]
    },
    {
      "cell_type": "markdown",
      "metadata": {
        "id": "Kpc-dZDWdTE-",
        "colab_type": "text"
      },
      "source": [
        "입력\n",
        "```\n",
        "10\n",
        "7 3 6 4 2 9 5 8 1\n",
        "5 8 9 1 6 7 3 2 4\n",
        "2 1 4 5 8 3 6 9 7\n",
        "8 4 7 9 3 6 1 5 2\n",
        "1 5 3 8 4 2 9 7 6\n",
        "9 6 2 7 5 1 8 4 3\n",
        "4 2 1 3 9 8 7 6 5\n",
        "3 9 5 6 7 4 2 1 8\n",
        "6 7 8 2 1 5 4 3 9\n",
        "…\n",
        "```\n",
        "\n",
        "출력\n",
        "```\n",
        "#1 1\n",
        "...\n",
        "```"
      ]
    },
    {
      "cell_type": "code",
      "metadata": {
        "id": "C_FXXXyjgn9J",
        "colab_type": "code",
        "colab": {
          "base_uri": "https://localhost:8080/",
          "height": 35
        },
        "outputId": "17df0664-7add-4a75-a60b-ef757a5e89f4"
      },
      "source": [
        "sum(list(range(1,10)))"
      ],
      "execution_count": null,
      "outputs": [
        {
          "output_type": "execute_result",
          "data": {
            "text/plain": [
              "45"
            ]
          },
          "metadata": {
            "tags": []
          },
          "execution_count": 3
        }
      ]
    },
    {
      "cell_type": "code",
      "metadata": {
        "id": "Fk4X2Z9UfcBC",
        "colab_type": "code",
        "colab": {
          "base_uri": "https://localhost:8080/",
          "height": 35
        },
        "outputId": "f5189ac6-41c8-4183-ca40-1923eb59533a"
      },
      "source": [
        "[4,2,3,1] == list(range(1,5))"
      ],
      "execution_count": null,
      "outputs": [
        {
          "output_type": "execute_result",
          "data": {
            "text/plain": [
              "False"
            ]
          },
          "metadata": {
            "tags": []
          },
          "execution_count": 2
        }
      ]
    },
    {
      "cell_type": "code",
      "metadata": {
        "id": "ztiHF6clfH2P",
        "colab_type": "code",
        "colab": {}
      },
      "source": [
        "T = int(input())\n",
        "\n",
        "for t in range(1,T+1):\n",
        "  sudoku = [list(map(int,input().split())) for _ in range(9)]\n",
        "\n",
        "  rows = len(sudoku)\n",
        "  cols = len(sudoku[0])\n",
        "  result = 1\n",
        "  for r in range(rows):\n",
        "    col_list = []\n",
        "    row_list = []\n",
        "    for c in range(cols):\n",
        "      col_list.append(sudoku[r][c])\n",
        "      row_list.append(sudoku[c][r])\n",
        "          \n",
        "    if len(col_list) != 9 or len(row_list) != 9:\n",
        "      result = 0\n",
        "      break\n",
        "\n",
        "  print(result)"
      ],
      "execution_count": null,
      "outputs": []
    },
    {
      "cell_type": "code",
      "metadata": {
        "id": "cYcR6tiScfXa",
        "colab_type": "code",
        "colab": {
          "base_uri": "https://localhost:8080/",
          "height": 53
        },
        "outputId": "3b150123-50ef-4780-aab3-174af2243575"
      },
      "source": [
        "T = int(input())\n",
        "\n",
        "for t in range(1,T+1):\n",
        "  sudoku = [list(map(int,input().split())) for _ in range(9)]\n",
        "\n",
        "  result = 1\n",
        "  for r in range(9):\n",
        "    sum_col = 0\n",
        "    sum_row = 0\n",
        "    for c in range(9):\n",
        "      sum_col += sudoku[r][c]\n",
        "      sum_row += sudoku[c][r]\n",
        "      if r%3 ==0 and c%3 ==0:\n",
        "        squares = 0\n",
        "        for i in range(3):\n",
        "          for j in range(3):\n",
        "            squares += sudoku[r+j][c+i]\n",
        "        if squares != 45:\n",
        "          result = 0\n",
        "          break\n",
        "        \n",
        "    if sum_col != 45 or sum_row != 45:\n",
        "      result = 0\n",
        "\n",
        "  print('#{}'.format(t),result)"
      ],
      "execution_count": null,
      "outputs": [
        {
          "output_type": "stream",
          "text": [
            "6789\n",
            "30\n"
          ],
          "name": "stdout"
        }
      ]
    },
    {
      "cell_type": "markdown",
      "metadata": {
        "id": "yE71BsO1d0fz",
        "colab_type": "text"
      },
      "source": [
        "## 1976. 시각 덧셈\n",
        "\n",
        "'''\n",
        "시 분으로 이루어진 시각을 2개 입력 받아, 더한 값을 시 분으로 출력하는 프로그램을 작성하라.\n",
        "\n",
        "(시각은 12시간제로 표시한다. 즉, 시가 가질 수 있는 값은 1시부터 12시이다.)\n",
        "\n",
        "\n",
        "[제약 사항]\n",
        "\n",
        "시는 1 이상 12 이하의 정수이다. 분은 0 이상 59 이하의 정수이다.\n",
        "\n",
        "\n",
        "[입력]\n",
        "\n",
        "가장 첫 줄에는 테스트 케이스의 개수 T가 주어지고, 그 아래로 각 테스트 케이스가 주어진다.\n",
        "\n",
        "각 테스트 케이스의 첫 번째 줄에는 4개의 수가 주어진다.\n",
        "\n",
        "첫 번째 수가 시를 나타내고 두 번째 수가 분을 나타낸다. 그 다음 같은 형식으로 두 번째 시각이 주어진다.\n",
        "\n",
        "\n",
        "[출력]\n",
        "\n",
        "출력의 각 줄은 '#t'로 시작하고 공백을 한 칸 둔 다음, 시를 출력하고 공백을 한 칸 둔 다음 분을 출력한다.\n",
        "\n",
        "(t는 테스트 케이스의 번호를 의미하며 1부터 시작한다.)\n",
        "'''"
      ]
    },
    {
      "cell_type": "markdown",
      "metadata": {
        "id": "3kT_LrNrd0u7",
        "colab_type": "text"
      },
      "source": [
        "입력\n",
        "```\n",
        "3 \n",
        "3 17 1 39\n",
        "8 22 5 10\n",
        "6 53 2 12 \n",
        "```\n",
        "\n",
        "출력\n",
        "```\n",
        "#1 4 56\n",
        "#2 1 32\n",
        "#3 9 5\n",
        "```"
      ]
    },
    {
      "cell_type": "code",
      "metadata": {
        "id": "fH6nr5ZZducw",
        "colab_type": "code",
        "colab": {
          "base_uri": "https://localhost:8080/",
          "height": 320
        },
        "outputId": "d02d9264-44cb-4637-f7a9-c5d098e72f19"
      },
      "source": [
        "T = int(input())\n",
        "\n",
        "for t in range(1,T+1):\n",
        "  times = list(map(int,input().split()))\n",
        "  pre_h = times[0]\n",
        "  pre_m = times[1]\n",
        "  add_h = times[2]\n",
        "  add_m = times[3]\n",
        "  if pre_m + add_m > 60:\n",
        "    new_h = pre_h + add_h + (pre_m + add_m)//60\n",
        "    new_h = new_h%12\n",
        "    if new_h == 0:\n",
        "      new_h = 12\n",
        "    new_m = (pre_m + add_m)%60\n",
        "  else:\n",
        "    new_h = (pre_h + add_h)%12\n",
        "    if new_h == 0:\n",
        "      new_h = 12\n",
        "    new_m = (pre_m + add_m)%60\n",
        "  \n",
        "  print(f'#{t}',new_h,new_m)"
      ],
      "execution_count": null,
      "outputs": [
        {
          "output_type": "stream",
          "text": [
            "2\n",
            "3 17 1 39\n",
            "#1 4 56\n",
            "2\n"
          ],
          "name": "stdout"
        },
        {
          "output_type": "error",
          "ename": "IndexError",
          "evalue": "ignored",
          "traceback": [
            "\u001b[0;31m---------------------------------------------------------------------------\u001b[0m",
            "\u001b[0;31mIndexError\u001b[0m                                Traceback (most recent call last)",
            "\u001b[0;32m<ipython-input-30-38379a682ac7>\u001b[0m in \u001b[0;36m<module>\u001b[0;34m()\u001b[0m\n\u001b[1;32m      4\u001b[0m   \u001b[0mtimes\u001b[0m \u001b[0;34m=\u001b[0m \u001b[0mlist\u001b[0m\u001b[0;34m(\u001b[0m\u001b[0mmap\u001b[0m\u001b[0;34m(\u001b[0m\u001b[0mint\u001b[0m\u001b[0;34m,\u001b[0m\u001b[0minput\u001b[0m\u001b[0;34m(\u001b[0m\u001b[0;34m)\u001b[0m\u001b[0;34m.\u001b[0m\u001b[0msplit\u001b[0m\u001b[0;34m(\u001b[0m\u001b[0;34m)\u001b[0m\u001b[0;34m)\u001b[0m\u001b[0;34m)\u001b[0m\u001b[0;34m\u001b[0m\u001b[0;34m\u001b[0m\u001b[0m\n\u001b[1;32m      5\u001b[0m   \u001b[0mpre_h\u001b[0m \u001b[0;34m=\u001b[0m \u001b[0mtimes\u001b[0m\u001b[0;34m[\u001b[0m\u001b[0;36m0\u001b[0m\u001b[0;34m]\u001b[0m\u001b[0;34m\u001b[0m\u001b[0;34m\u001b[0m\u001b[0m\n\u001b[0;32m----> 6\u001b[0;31m   \u001b[0mpre_m\u001b[0m \u001b[0;34m=\u001b[0m \u001b[0mtimes\u001b[0m\u001b[0;34m[\u001b[0m\u001b[0;36m1\u001b[0m\u001b[0;34m]\u001b[0m\u001b[0;34m\u001b[0m\u001b[0;34m\u001b[0m\u001b[0m\n\u001b[0m\u001b[1;32m      7\u001b[0m   \u001b[0madd_h\u001b[0m \u001b[0;34m=\u001b[0m \u001b[0mtimes\u001b[0m\u001b[0;34m[\u001b[0m\u001b[0;36m2\u001b[0m\u001b[0;34m]\u001b[0m\u001b[0;34m\u001b[0m\u001b[0;34m\u001b[0m\u001b[0m\n\u001b[1;32m      8\u001b[0m   \u001b[0madd_m\u001b[0m \u001b[0;34m=\u001b[0m \u001b[0mtimes\u001b[0m\u001b[0;34m[\u001b[0m\u001b[0;36m3\u001b[0m\u001b[0;34m]\u001b[0m\u001b[0;34m\u001b[0m\u001b[0;34m\u001b[0m\u001b[0m\n",
            "\u001b[0;31mIndexError\u001b[0m: list index out of range"
          ]
        }
      ]
    },
    {
      "cell_type": "markdown",
      "metadata": {
        "id": "oPt_geAXfAYV",
        "colab_type": "text"
      },
      "source": [
        "## 1979. 어디에 단어가 들어갈 수 있을까\n",
        "\n",
        "'''\n",
        "N X N 크기의 단어 퍼즐을 만들려고 한다. 입력으로 단어 퍼즐의 모양이 주어진다.\n",
        "\n",
        "주어진 퍼즐 모양에서 특정 길이 K를 갖는 단어가 들어갈 수 있는 자리의 수를 출력하는 프로그램을 작성하라.\n",
        "\n",
        "[예제]\n",
        "\n",
        "N = 5, K = 3 이고, 퍼즐의 모양이 아래 그림과 같이 주어졌을 때\n",
        " \n",
        "![image.png](data:image/png;base64,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)\n",
        "\n",
        "\n",
        "길이가 3 인 단어가 들어갈 수 있는 자리는 2 곳(가로 1번, 가로 4번)이 된다.\n",
        " \n",
        " ![image.png](data:image/png;base64,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)\n",
        "\n",
        "\n",
        "[제약 사항]\n",
        "\n",
        "1. N은 5 이상 15 이하의 정수이다. (5 ≤ N ≤ 15)\n",
        "\n",
        "2. K는 2 이상 N 이하의 정수이다. (2 ≤ K ≤ N)\n",
        "\n",
        "\n",
        "[입력]\n",
        "\n",
        "입력은 첫 줄에 총 테스트 케이스의 개수 T가 온다.\n",
        "\n",
        "다음 줄부터 각 테스트 케이스가 주어진다.\n",
        "\n",
        "테스트 케이스의 첫 번째 줄에는 단어 퍼즐의 가로, 세로 길이 N 과, 단어의 길이 K 가 주어진다.\n",
        "\n",
        "테스트 케이스의 두 번째 줄부터 퍼즐의 모양이 2차원 정보로 주어진다.\n",
        "\n",
        "퍼즐의 각 셀 중, 흰색 부분은 1, 검은색 부분은 0 으로 주어진다.\n",
        "\n",
        "\n",
        "[출력]\n",
        "\n",
        "테스트 케이스 t에 대한 결과는 “#t”을 찍고, 한 칸 띄고, 정답을 출력한다.\n",
        "\n",
        "(t는 테스트 케이스의 번호를 의미하며 1부터 시작한다.)\n",
        "'''"
      ]
    },
    {
      "cell_type": "markdown",
      "metadata": {
        "id": "MkONZ7KUfAtz",
        "colab_type": "text"
      },
      "source": [
        "입력\n",
        "```\n",
        "10\n",
        "5 3\n",
        "0 0 1 1 1\n",
        "1 1 1 1 0\n",
        "0 0 1 0 0\n",
        "0 1 1 1 1\n",
        "1 1 1 0 1\n",
        "5 3\n",
        "1 0 0 1 0\n",
        "1 1 0 1 1\n",
        "1 0 1 1 1\n",
        "0 1 1 0 1\n",
        "0 1 1 1 0\n",
        "… \n",
        "```\n",
        "\n",
        "출력\n",
        "```\n",
        "#1 2\n",
        "#2 6\n",
        "...\n",
        "```"
      ]
    },
    {
      "cell_type": "code",
      "metadata": {
        "id": "pie-lJwJePo9",
        "colab_type": "code",
        "colab": {
          "base_uri": "https://localhost:8080/",
          "height": 164
        },
        "outputId": "0bd17811-7f5c-4a9d-ce59-99b542bd82bf"
      },
      "source": [
        "T = int(input())\n",
        "for t in range(1,T+1):\n",
        "  N,K = map(int,input().split())\n",
        "  puzzle = [list(map(int,input().split()))for _ in range(N)]\n",
        "\n",
        "  ans = 0\n",
        "  for row in range(N):\n",
        "    cnt = 0\n",
        "    cnt2 = 0\n",
        "    for col in range(N):\n",
        "      if puzzle[row][col] == 1:\n",
        "        cnt += 1\n",
        "      else:\n",
        "        if cnt == K:\n",
        "          ans += 1\n",
        "          cnt = 0\n",
        "        else:\n",
        "          cnt = 0\n",
        "       \n",
        "      if puzzle[col][row] == 1:\n",
        "        cnt2 += 1\n",
        "      else:\n",
        "        if cnt2 ==K:\n",
        "          ans += 1\n",
        "          cnt2 = 0\n",
        "        else:\n",
        "          cnt2 = 0\n",
        "    if cnt == K:\n",
        "      ans+= 1\n",
        "    if cnt2 == K:\n",
        "      ans += 1\n",
        "\n",
        "  print('#{}'.format(t),ans)"
      ],
      "execution_count": null,
      "outputs": [
        {
          "output_type": "stream",
          "text": [
            "1\n",
            "5 3\n",
            "0 0 1 1 1\n",
            "1 1 1 1 0\n",
            "0 0 1 0 0\n",
            "0 1 1 1 1\n",
            "1 1 1 0 1\n",
            "#1 2\n"
          ],
          "name": "stdout"
        }
      ]
    },
    {
      "cell_type": "markdown",
      "metadata": {
        "id": "5_qSmVsJfzv7",
        "colab_type": "text"
      },
      "source": [
        "## 1983. 조교의 성적 매기기\n",
        "\n",
        "'''\n",
        "학기가 끝나고, 학생들의 점수로 학점을 계산중이다.\n",
        "\n",
        "학점은 상대평가로 주어지는데, 총 10개의 평점이 있다.\n",
        "\n",
        "\n",
        "학점은 학생들이 응시한 중간/기말고사 점수 결과 및 과제 점수가 반영한다.\n",
        "\n",
        "각각 아래 비율로 반영된다.\n",
        "\n",
        "**총점 = 중간고사(35%) + 기말고사(45%) + 과제(20%)**\n",
        "\n",
        "10 개의 평점을 총점이 높은 순서대로 부여하는데,\n",
        "\n",
        "각각의 평점은 같은 비율로 부여할 수 있다.\n",
        "\n",
        "예를 들어, N 명의 학생이 있을 경우 N/10 명의 학생들에게 동일한 평점을 부여할 수 있다.\n",
        "\n",
        "입력으로 각각의 학생들의 중간, 기말, 과제 점수가 주어지고,\n",
        "\n",
        "학점을 알고싶은 K 번째 학생의 번호가 주어졌을 때,\n",
        "\n",
        "K 번째 학생의 학점을 출력하는 프로그램을 작성하라.\n",
        "\n",
        "\n",
        "[제약사항]\n",
        "\n",
        "1. N은 항상 10의 배수이며, 10이상 100이하의 정수이다. (10 ≤ N ≤ 100)\n",
        "\n",
        "2. K는 1 이상 N 이하의 정수이다. (1 ≤ K ≤ N)\n",
        "\n",
        "3. K 번째 학생의 총점과 다른 학생의 총점이 동일한 경우는 입력으로 주어지지 않는다.\n",
        "\n",
        "\n",
        "[입력]\n",
        "\n",
        "입력은 첫 줄에 총 테스트 케이스의 개수 T가 온다.\n",
        "\n",
        "다음 줄부터 각 테스트 케이스가 주어진다.\n",
        "\n",
        "테스트 케이스의 첫 번째 줄은 학생수 N 과, 학점을 알고싶은 학생의 번호 K 가 주어진다.\n",
        "\n",
        "테스트 케이스 두 번째 줄 부터 각각의 학생이 받은 시험 및 과제 점수가 주어진다.\n",
        "\n",
        "\n",
        "[출력]\n",
        "\n",
        "테스트 케이스 t에 대한 결과는 “#t”을 찍고, 한 칸 띄고, 정답을 출력한다.\n",
        "\n",
        "(t는 테스트 케이스의 번호를 의미하며 1부터 시작한다.)\n",
        "'''"
      ]
    },
    {
      "cell_type": "markdown",
      "metadata": {
        "id": "Ejd8sUP8fztO",
        "colab_type": "text"
      },
      "source": [
        "입력\n",
        "```\n",
        "10\n",
        "10 2\n",
        "87 59 88\n",
        "99 94 78\n",
        "94 86 86\n",
        "99 100 99\n",
        "69 76 70\n",
        "76 89 96\n",
        "98 95 96\n",
        "74 69 60\n",
        "98 84 67\n",
        "85 84 91\n",
        "…     \n",
        "```\n",
        "\n",
        "출력\n",
        "```\n",
        "#1 A-\n",
        "```"
      ]
    },
    {
      "cell_type": "code",
      "metadata": {
        "id": "QromhnFeDEwY",
        "colab_type": "code",
        "colab": {
          "base_uri": "https://localhost:8080/",
          "height": 35
        },
        "outputId": "60a03876-1ac8-4b61-f6e5-111e74216aad"
      },
      "source": [
        "grades = {0:'A+',1:'A0',2:'A-',3:'B+',4:'B0',5:'B-',6:'C+',7:'C0',8:'C-',9:'D0'}\n",
        "grades.get(2)"
      ],
      "execution_count": null,
      "outputs": [
        {
          "output_type": "execute_result",
          "data": {
            "application/vnd.google.colaboratory.intrinsic+json": {
              "type": "string"
            },
            "text/plain": [
              "'A-'"
            ]
          },
          "metadata": {
            "tags": []
          },
          "execution_count": 36
        }
      ]
    },
    {
      "cell_type": "code",
      "metadata": {
        "id": "4Sprwf5MFGuy",
        "colab_type": "code",
        "colab": {
          "base_uri": "https://localhost:8080/",
          "height": 35
        },
        "outputId": "3ee04f49-b969-4e77-b4c1-2d98e71eeaa9"
      },
      "source": [
        "3//2"
      ],
      "execution_count": null,
      "outputs": [
        {
          "output_type": "execute_result",
          "data": {
            "text/plain": [
              "1"
            ]
          },
          "metadata": {
            "tags": []
          },
          "execution_count": 38
        }
      ]
    },
    {
      "cell_type": "code",
      "metadata": {
        "id": "ZxHHeBoZfqfR",
        "colab_type": "code",
        "colab": {
          "base_uri": "https://localhost:8080/",
          "height": 248
        },
        "outputId": "06350486-60dc-411a-f378-0fe8c2b36cca"
      },
      "source": [
        "T = int(input())\n",
        "\n",
        "for t in range(1,T+1):\n",
        "  n,k = map(int,input().split())\n",
        "  total_list = []\n",
        "  d = n//10\n",
        "  grades = {0:'A+',1:'A0',2:'A-',3:'B+',4:'B0',5:'B-',6:'C+',7:'C0',8:'C-',9:'D0'}\n",
        "  for i in range(n):\n",
        "    total = 0\n",
        "    scores = list(map(int,input().split()))\n",
        "    total += scores[0]*0.35 + scores[1]*0.45 + scores[2]*0.2\n",
        "    total_list.append(total)\n",
        "  target = sorted(total_list,reverse=True).index(total_list[k-1])\n",
        "  print(f'#{t}',grades.get(target//d))"
      ],
      "execution_count": null,
      "outputs": [
        {
          "output_type": "stream",
          "text": [
            "1\n",
            "10 2\n",
            "87 59 88\n",
            "99 94 78\n",
            " 94 86 86\n",
            " 99 100 99 \n",
            "69 76 70 \n",
            "76 89 96 \n",
            "98 95 96 \n",
            "74 69 60 \n",
            "98 84 67 \n",
            "85 84 91\n",
            "#1 A-\n"
          ],
          "name": "stdout"
        }
      ]
    },
    {
      "cell_type": "markdown",
      "metadata": {
        "id": "u98nrZJEgdNy",
        "colab_type": "text"
      },
      "source": [
        "## 1984. 중간 평균값 구하기\n",
        "\n",
        "'''\n",
        "10개의 수를 입력 받아, 최대 수와 최소 수를 제외한 나머지의 평균값을 출력하는 프로그램을 작성하라.\n",
        "\n",
        "(소수점 첫째 자리에서 반올림한 정수를 출력한다.)\n",
        "\n",
        "\n",
        "[제약 사항]\n",
        "\n",
        "각 수는 0 이상 10000 이하의 정수이다.\n",
        "\n",
        "\n",
        "[입력]\n",
        "\n",
        "가장 첫 줄에는 테스트 케이스의 개수 T가 주어지고, 그 아래로 각 테스트 케이스가 주어진다.\n",
        "\n",
        "각 테스트 케이스의 첫 번째 줄에는 10개의 수가 주어진다.\n",
        "\n",
        "\n",
        "[출력]\n",
        "\n",
        "출력의 각 줄은 '#t'로 시작하고, 공백을 한 칸 둔 다음 정답을 출력한다.\n",
        "\n",
        "(t는 테스트 케이스의 번호를 의미하며 1부터 시작한다.)\n",
        "\n",
        "'''"
      ]
    },
    {
      "cell_type": "markdown",
      "metadata": {
        "id": "jt1FM36AgdK6",
        "colab_type": "text"
      },
      "source": [
        "입력\n",
        "```\n",
        "3      \n",
        "3 17 1 39 8 41 2 32 99 2 \n",
        "22 8 5 123 7 2 63 7 3 46 \n",
        "6 63 2 3 58 76 21 33 8 1   \n",
        "```\n",
        "\n",
        "출력\n",
        "```\n",
        "#1 18\n",
        "#2 20\n",
        "#3 24\n",
        "```"
      ]
    },
    {
      "cell_type": "code",
      "metadata": {
        "id": "5hPcBTCIgRgQ",
        "colab_type": "code",
        "colab": {
          "base_uri": "https://localhost:8080/",
          "height": 143
        },
        "outputId": "bf72c7db-f2a3-4c01-b9a5-b9a8de7460d2"
      },
      "source": [
        "T = int(input())\n",
        "\n",
        "for t in range(1,T+1):\n",
        "  numbers = list(map(int,input().split()))\n",
        "  \n",
        "  max_val = numbers[0]\n",
        "  for num in numbers:\n",
        "    if num > max_val:\n",
        "      max_val = num\n",
        "  numbers.remove(max_val)\n",
        "\n",
        "  min_val = numbers[0]\n",
        "  for num in numbers:\n",
        "    if num < min_val:\n",
        "      min_val = num\n",
        "  numbers.remove(min_val)\n",
        "  \n",
        "  total = 0\n",
        "  cnt = 0\n",
        "  for number in numbers:\n",
        "    total += number\n",
        "    cnt += 1\n",
        "  avg = total/cnt\n",
        "  \n",
        "  if avg%1 < 0.5:\n",
        "    result = int(avg//1)\n",
        "  else:\n",
        "    result = int(avg//1 +1)\n",
        "\n",
        "  print(f'#{t}',result)"
      ],
      "execution_count": null,
      "outputs": [
        {
          "output_type": "stream",
          "text": [
            "3\n",
            "3 17 1 39 8 41 2 32 99 2\n",
            "24\n",
            "22 8 5 123 7 2 63 7 3 46\n",
            "29\n",
            "6 63 2 3 58 76 21 33 8 1\n",
            "27\n"
          ],
          "name": "stdout"
        }
      ]
    },
    {
      "cell_type": "markdown",
      "metadata": {
        "id": "UAy-x3oAkA2z",
        "colab_type": "text"
      },
      "source": [
        "## 1986. 지그재그 숫자\n",
        "\n",
        "'''\n",
        "1부터 N까지의 숫자에서 홀수는 더하고 짝수는 뺐을 때 최종 누적된 값을 구해보자.\n",
        "\n",
        "\n",
        "[예제 풀이]\n",
        "\n",
        "N이 5일 경우,\n",
        "\n",
        "1 – 2 + 3 – 4 + 5 = 3\n",
        "\n",
        "N이 6일 경우,\n",
        "\n",
        "1 – 2 + 3 – 4 + 5 – 6 = -3\n",
        "\n",
        "\n",
        "[제약사항]\n",
        "\n",
        "N은 1 이상 10 이하의 정수이다. (1 ≤ N ≤ 10)\n",
        "\n",
        "\n",
        "[입력]\n",
        "\n",
        "가장 첫 줄에는 테스트 케이스의 개수 T가 주어지고, 그 아래로 각 테스트 케이스가 주어진다.\n",
        "\n",
        "각 테스트 케이스에는 N이 주어진다.\n",
        "\n",
        "\n",
        "[출력]\n",
        "\n",
        "각 줄은 '#t'로 시작하고, 공백을 한 칸 둔 다음 누적된 값을 출력한다.\n",
        "\n",
        "(t는 테스트 케이스의 번호를 의미하며 1부터 시작한다.)\n",
        "\n",
        "\n",
        "'''"
      ]
    },
    {
      "cell_type": "markdown",
      "metadata": {
        "id": "zXHD8BX2kAcs",
        "colab_type": "text"
      },
      "source": [
        "입력\n",
        "```\n",
        "2\n",
        "5\n",
        "6   \n",
        "```\n",
        "\n",
        "출력\n",
        "```\n",
        "#1 3\n",
        "#2 -3\n",
        "```"
      ]
    },
    {
      "cell_type": "code",
      "metadata": {
        "id": "iw8nm1-dhP0_",
        "colab_type": "code",
        "colab": {
          "base_uri": "https://localhost:8080/",
          "height": 106
        },
        "outputId": "3fdccb47-5c2e-4ec1-a3fa-00eebc82bfb5"
      },
      "source": [
        "T = int(input())\n",
        "\n",
        "for t in range(1,T+1):\n",
        "    N = int(input())\n",
        "    numbers = range(1,N+1)\n",
        "\n",
        "    plus = 0\n",
        "    minus = 0\n",
        "    for num in numbers:\n",
        "        if num%2 == 0:\n",
        "            minus -= num\n",
        "        else:\n",
        "            plus += num\n",
        "\n",
        "    result = plus + minus    \n",
        "    print(f'#{t}',result)"
      ],
      "execution_count": null,
      "outputs": [
        {
          "output_type": "stream",
          "text": [
            "2\n",
            "5\n",
            "#1 3\n",
            "6\n",
            "#2 -3\n"
          ],
          "name": "stdout"
        }
      ]
    },
    {
      "cell_type": "code",
      "metadata": {
        "id": "F-3nVndCkmPv",
        "colab_type": "code",
        "colab": {}
      },
      "source": [
        ""
      ],
      "execution_count": null,
      "outputs": []
    },
    {
      "cell_type": "markdown",
      "metadata": {
        "colab_type": "text",
        "id": "yDLiCBbeKyIx"
      },
      "source": [
        "## 1989. 초심자의 회문 검사\n",
        "\n",
        "'''\n",
        "\"level\" 과 같이 거꾸로 읽어도 제대로 읽은 것과 같은 문장이나 낱말을 회문(回文, palindrome)이라 한다.\n",
        "\n",
        "단어를 입력 받아 회문이면 1을 출력하고, 아니라면 0을 출력하는 프로그램을 작성하라.\n",
        "\n",
        "\n",
        "[제약 사항]\n",
        "\n",
        "각 단어의 길이는 3 이상 10 이하이다.\n",
        "\n",
        "\n",
        "[입력]\n",
        "\n",
        "가장 첫 줄에는 테스트 케이스의 개수 T가 주어지고, 그 아래로 각 테스트 케이스가 주어진다.\n",
        "\n",
        "각 테스트 케이스의 첫 번째 줄에 하나의 단어가 주어진다.\n",
        "\n",
        "\n",
        "[출력]\n",
        "\n",
        "출력의 각 줄은 '#t'로 시작하고, 공백을 한 칸 둔 다음 정답을 출력한다.\n",
        "\n",
        "(t는 테스트 케이스의 번호를 의미하며 1부터 시작한다.)\n",
        "\n",
        "\n",
        "'''"
      ]
    },
    {
      "cell_type": "markdown",
      "metadata": {
        "colab_type": "text",
        "id": "AahGGzHLKyI0"
      },
      "source": [
        "입력\n",
        "```\n",
        "3\n",
        "level     \n",
        "samsung\n",
        "eye   \n",
        "```\n",
        "\n",
        "출력\n",
        "```\n",
        "#1 1\n",
        "#2 0\n",
        "#3 1\n",
        "```"
      ]
    },
    {
      "cell_type": "code",
      "metadata": {
        "colab_type": "code",
        "id": "R6xJJL1eKyI3",
        "colab": {
          "base_uri": "https://localhost:8080/",
          "height": 141
        },
        "outputId": "ecf4dc85-77a1-4714-afdc-095f272f49c4"
      },
      "source": [
        "T = int(input())\n",
        "\n",
        "for t in range(1,T+1):\n",
        "  strings = input()\n",
        "  result = 1\n",
        "  while len(strings) >2:\n",
        "    if strings[0] == strings[-1]:\n",
        "      strings = strings[1:-1]\n",
        "    else:\n",
        "      result = 0\n",
        "      break\n",
        "  \n",
        "  print(f'#{t}',result)"
      ],
      "execution_count": null,
      "outputs": [
        {
          "output_type": "stream",
          "text": [
            "3\n",
            "level\n",
            "1\n",
            "samsung\n",
            "0\n",
            "eye\n",
            "1\n"
          ],
          "name": "stdout"
        }
      ]
    },
    {
      "cell_type": "markdown",
      "metadata": {
        "colab_type": "text",
        "id": "p77c6mn_KzIc"
      },
      "source": [
        "## 2001. 파리 퇴치\n",
        "\n",
        "'''\n",
        "N x N 배열 안의 숫자는 해당 영역에 존재하는 파리의 개수를 의미한다.\n",
        "\n",
        "아래는 N=5 의 예이다.\n",
        " \n",
        "![image.png](data:image/png;base64,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)\n",
        "\n",
        "\n",
        "M x M 크기의 파리채를 한 번 내리쳐 최대한 많은 파리를 죽이고자 한다.\n",
        "\n",
        "죽은 파리의 개수를 구하라!\n",
        "\n",
        "예를 들어 M=2 일 경우 위 예제의 정답은 49마리가 된다.\n",
        " \n",
        "![image.png](data:image/png;base64,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)\n",
        "\n",
        "\n",
        "[제약 사항]\n",
        "\n",
        "1. N 은 5 이상 15 이하이다.\n",
        "\n",
        "2. M은 2 이상 N 이하이다.\n",
        "\n",
        "3. 각 영역의 파리 갯수는 30 이하 이다.\n",
        "\n",
        "\n",
        "[입력]\n",
        "\n",
        "가장 첫 줄에는 테스트 케이스의 개수 T가 주어지고, 그 아래로 각 테스트 케이스가 주어진다.\n",
        "\n",
        "각 테스트 케이스의 첫 번째 줄에 N 과 M 이 주어지고,\n",
        "\n",
        "다음 N 줄에 걸쳐 N x N 배열이 주어진다.\n",
        "\n",
        "\n",
        "[출력]\n",
        "\n",
        "출력의 각 줄은 '#t'로 시작하고, 공백을 한 칸 둔 다음 정답을 출력한다.\n",
        "\n",
        "(t는 테스트 케이스의 번호를 의미하며 1부터 시작한다.)\n",
        "\n",
        "'''"
      ]
    },
    {
      "cell_type": "markdown",
      "metadata": {
        "colab_type": "text",
        "id": "erybOF_RKzId"
      },
      "source": [
        "입력\n",
        "```\n",
        "10\n",
        "5 2\n",
        "1 3 3 6 7\n",
        "8 13 9 12 8\n",
        "4 16 11 12 6\n",
        "2 4 1 23 2\n",
        "9 13 4 7 3\n",
        "6 3\n",
        "29 21 26 9 5 8\n",
        "21 19 8 0 21 19\n",
        "9 24 2 11 4 24\n",
        "19 29 1 0 21 19\n",
        "10 29 6 18 4 3\n",
        "29 11 15 3 3 29\n",
        "```\n",
        "\n",
        "출력\n",
        "```\n",
        "#1 49\n",
        "#2 159\n",
        "```"
      ]
    },
    {
      "cell_type": "code",
      "metadata": {
        "colab_type": "code",
        "id": "VV0Op4ScKzIe",
        "colab": {
          "base_uri": "https://localhost:8080/",
          "height": 109
        },
        "outputId": "3fdccb47-5c2e-4ec1-a3fa-00eebc82bfb5"
      },
      "source": [
        "T = int(input())\n",
        "\n",
        "for t in range(1,T+1):\n",
        "    N, M = map(int,input().split())\n",
        "    flies = [list(map(int,input().split())) for _ in range(N)]\n",
        "\n",
        "    max_val = 0\n",
        "    for r in range(N-M+1):\n",
        "        for c in range(N-M+1):\n",
        "            total = 0\n",
        "            for i in range(M):\n",
        "                for j in range(M):\n",
        "                    total += flies[r+i][c+j]\n",
        "            if total > max_val:\n",
        "                max_val = total\n",
        "\n",
        "    print('#{}'.format(t),max_val)"
      ],
      "execution_count": null,
      "outputs": [
        {
          "output_type": "stream",
          "text": [
            "2\n",
            "5\n",
            "#1 3\n",
            "6\n",
            "#2 -3\n"
          ],
          "name": "stdout"
        }
      ]
    },
    {
      "cell_type": "markdown",
      "metadata": {
        "colab_type": "text",
        "id": "7V3vuYQrK0c6"
      },
      "source": [
        "## 2005. 파스칼의 삼각형\n",
        "\n",
        "'''\n",
        "크기가 N인 파스칼의 삼각형을 만들어야 한다.\n",
        "\n",
        "파스칼의 삼각형이란 아래와 같은 규칙을 따른다.\n",
        "\n",
        "1. 첫 번째 줄은 항상 숫자 1이다.\n",
        "\n",
        "2. 두 번째 줄부터 각 숫자들은 자신의 왼쪽과 오른쪽 위의 숫자의 합으로 구성된다.\n",
        "\n",
        "N이 4일 경우,\n",
        "\n",
        "   1\n",
        "\n",
        "  1 1\n",
        "\n",
        "  1 2 1\n",
        "\n",
        "  1 3 3 1\n",
        "\n",
        "\n",
        "\n",
        "N을 입력 받아 크기 N인 파스칼의 삼각형을 출력하는 프로그램을 작성하시오.\n",
        "\n",
        "\n",
        "[제약 사항]\n",
        "\n",
        "파스칼의 삼각형의 크기 N은 1 이상 10 이하의 정수이다. (1 ≤ N ≤ 10)\n",
        "\n",
        "\n",
        "[입력]\n",
        "\n",
        "가장 첫 줄에는 테스트 케이스의 개수 T가 주어지고, 그 아래로 각 테스트 케이스가 주어진다.\n",
        "\n",
        "각 테스트 케이스에는 N이 주어진다.\n",
        "\n",
        "\n",
        "[출력]\n",
        "\n",
        "각 줄은 '#t'로 시작하고, 다음 줄부터 파스칼의 삼각형을 출력한다.\n",
        "\n",
        "삼각형 각 줄의 처음 숫자가 나오기 전까지의 빈 칸은 생략하고 숫자들 사이에는 한 칸의 빈칸을 출력한다.\n",
        "\n",
        "(t는 테스트 케이스의 번호를 의미하며 1부터 시작한다.)\n",
        "\n",
        "\n",
        "'''"
      ]
    },
    {
      "cell_type": "markdown",
      "metadata": {
        "colab_type": "text",
        "id": "xqk9QbCmK0c8"
      },
      "source": [
        "입력\n",
        "```\n",
        "1\n",
        "4   \n",
        "```\n",
        "\n",
        "출력\n",
        "```\n",
        "#1\n",
        "1\n",
        "1 1\n",
        "1 2 1\n",
        "1 3 3 1\n",
        "```"
      ]
    },
    {
      "cell_type": "code",
      "metadata": {
        "id": "7iGGv7D4UbDB",
        "colab_type": "code",
        "colab": {
          "base_uri": "https://localhost:8080/",
          "height": 35
        },
        "outputId": "e5c7e3d1-393e-4612-e164-209716bf6343"
      },
      "source": [
        "list(range(2))"
      ],
      "execution_count": null,
      "outputs": [
        {
          "output_type": "execute_result",
          "data": {
            "text/plain": [
              "[0, 1]"
            ]
          },
          "metadata": {
            "tags": []
          },
          "execution_count": 61
        }
      ]
    },
    {
      "cell_type": "code",
      "metadata": {
        "colab_type": "code",
        "id": "0gU4kQKgK0c9",
        "colab": {
          "base_uri": "https://localhost:8080/",
          "height": 177
        },
        "outputId": "81a5662b-51df-4c2f-bc2e-0081408024b0"
      },
      "source": [
        "T = int(input())\n",
        "\n",
        "for t in range(1,T+1):\n",
        "    N = int(input())\n",
        "    print(f'#{t}')\n",
        "    pascals = []\n",
        "    while len(pascals) != N:\n",
        "      if len(pascals)>=2:\n",
        "        temp_list = []\n",
        "        for i in range(len(pascals)-1):\n",
        "          temp_list.append(pascals[i] + pascals[i+1])\n",
        "        pascals.append(1)\n",
        "        for j in range(len(temp_list)):\n",
        "          pascals[j+1] = temp_list[j]\n",
        "      else:\n",
        "        pascals.append(1)\n",
        "      for pascal in pascals:\n",
        "        print(pascal,end=' ')\n",
        "      print('')"
      ],
      "execution_count": null,
      "outputs": [
        {
          "output_type": "stream",
          "text": [
            "1\n",
            "6\n",
            "#1\n",
            "1 \n",
            "1 1 \n",
            "1 2 1 \n",
            "1 3 3 1 \n",
            "1 4 6 4 1 \n",
            "1 5 10 10 5 1 \n"
          ],
          "name": "stdout"
        }
      ]
    },
    {
      "cell_type": "markdown",
      "metadata": {
        "colab_type": "text",
        "id": "oh4nkOs5K2rZ"
      },
      "source": [
        "## 2007. 패턴 마디의 길이\n",
        "\n",
        "'''\n",
        "패턴에서 반복되는 부분을 마디라고 부른다. 문자열을 입력 받아 마디의 길이를 출력하는 프로그램을 작성하라.\n",
        "\n",
        "\n",
        "[제약 사항]\n",
        "\n",
        "각 문자열의 길이는 30이다. 마디의 최대 길이는 10이다.\n",
        "\n",
        "\n",
        "[입력]\n",
        "\n",
        "가장 첫 줄에는 테스트 케이스의 개수 T가 주어지고, 그 아래로 각 테스트 케이스가 주어진다.\n",
        "\n",
        "각 테스트 케이스의 첫 번째 줄에는 길이가 30인 문자열이 주어진다.\n",
        "\n",
        "\n",
        "[출력]\n",
        "\n",
        "출력의 각 줄은 '#t'로 시작하고, 공백을 한 칸 둔 다음 정답을 출력한다.\n",
        "\n",
        "(t는 테스트 케이스의 번호를 의미하며 1부터 시작한다.)\n",
        "\n",
        "\n",
        "'''"
      ]
    },
    {
      "cell_type": "markdown",
      "metadata": {
        "colab_type": "text",
        "id": "KRBjSwXLK2rb"
      },
      "source": [
        "입력\n",
        "```\n",
        "3       \n",
        "KOREAKOREAKOREAKOREAKOREAKOREA\n",
        "SAMSUNGSAMSUNGSAMSUNGSAMSUNGSA\n",
        "GALAXYGALAXYGALAXYGALAXYGALAXY        \n",
        "```\n",
        "\n",
        "출력\n",
        "```\n",
        "#1 5\n",
        "#2 7\n",
        "#3 6\n",
        "```"
      ]
    },
    {
      "cell_type": "code",
      "metadata": {
        "colab_type": "code",
        "id": "rXtlRWbNK2rc",
        "colab": {
          "base_uri": "https://localhost:8080/",
          "height": 70
        },
        "outputId": "0bd409c7-76cd-468a-aeea-154ba0e712fe"
      },
      "source": [
        "T = int(input())\n",
        "\n",
        "for t in range(1,T+1):\n",
        "  strings = input()\n",
        "  for i in range(1,11):\n",
        "    check = strings[:i]\n",
        "    if strings[i:i+i] == check:\n",
        "        print(f'#{t}',i)\n",
        "        break"
      ],
      "execution_count": null,
      "outputs": [
        {
          "output_type": "stream",
          "text": [
            "1\n",
            "KOREAKOREAKOREAKOREAKOREA\n",
            "#1 5\n"
          ],
          "name": "stdout"
        }
      ]
    },
    {
      "cell_type": "markdown",
      "metadata": {
        "colab_type": "text",
        "id": "o5LKmezuK3Ra"
      },
      "source": [
        "## 1926. 간단한 369게임\n",
        "\n",
        "'''\n",
        "3 6 9 게임을 프로그램으로 제작중이다. 게임 규칙은 다음과 같다.\n",
        "\n",
        " \n",
        "\n",
        "1. 숫자 1부터 순서대로 차례대로 말하되, “3” “6” “9” 가 들어가 있는 수는 말하지 않는다.\n",
        "\n",
        "  1 2 3 4 5 6 7 8 9…\n",
        "\n",
        "2. \"3\" \"6\" \"9\"가 들어가 있는 수를 말하지 않는대신, 박수를 친다. 이 때, 박수는 해당 숫자가 들어간 개수만큼 쳐야 한다.  \n",
        "예를 들어 숫자 35의 경우 박수 한 번, 숫자 36의 경우 박수를 두번 쳐야 한다.\n",
        " \n",
        "\n",
        "입력으로 정수 N 이 주어졌을 때, 1~N 까지의 숫자를\n",
        "\n",
        "게임 규칙에 맞게 출력하는 프로그램을 작성하라.\n",
        "\n",
        "박수를 치는 부분은 숫자 대신, 박수 횟수에 맞게 “-“ 를 출력한다.\n",
        "\n",
        "여기서 주의해야 할 것은 박수 한 번 칠 때는 - 이며, 박수를 두 번 칠 때는 - - 가 아닌 -- 이다. \n",
        " \n",
        "\n",
        "[제약사항]\n",
        "\n",
        "N은 10이상 1,000이하의 정수이다. (10 ≤ N ≤ 1,000)\n",
        "\n",
        " \n",
        "\n",
        "[입력]\n",
        "\n",
        "입력으로 정수 N 이 주어진다.\n",
        "\n",
        "\n",
        "[출력]\n",
        "\n",
        "1 ~ N까지의 숫자를 게임 규칙에 맞게 출력한다.\n",
        "\n",
        "'''"
      ]
    },
    {
      "cell_type": "markdown",
      "metadata": {
        "colab_type": "text",
        "id": "R3oTQDrYK3Rb"
      },
      "source": [
        "입력\n",
        "```\n",
        "10   \n",
        "```\n",
        "\n",
        "출력\n",
        "```\n",
        "1 2 -4 5 -7 8 -10\n",
        "```"
      ]
    },
    {
      "cell_type": "code",
      "metadata": {
        "colab_type": "code",
        "id": "auNWbqBlK3Rc",
        "colab": {
          "base_uri": "https://localhost:8080/",
          "height": 53
        },
        "outputId": "6c818d41-6452-4263-8996-f52b86ed2c72"
      },
      "source": [
        "N = int(input())\n",
        "for n in range(1,N+1):\n",
        "  if '3' in str(n) or '6' in str(n) or '9' in str(n):\n",
        "    cnt = 0\n",
        "    for i in range(len(str(n))):\n",
        "      if str(n)[i] == '3' or str(n)[i] == '6' or str(n)[i] == '9':\n",
        "        cnt += 1\n",
        "    print('-'*cnt,end=' ')\n",
        "  else:\n",
        "    print(n,end=' ')\n",
        "    "
      ],
      "execution_count": null,
      "outputs": [
        {
          "output_type": "stream",
          "text": [
            "34\n",
            "1 2 - 4 5 - 7 8 - 10 11 12 - 14 15 - 17 18 - 20 21 22 - 24 25 - 27 28 - - - - -- - "
          ],
          "name": "stdout"
        }
      ]
    },
    {
      "cell_type": "markdown",
      "metadata": {
        "colab_type": "text",
        "id": "3m7Dt8omK3yM"
      },
      "source": [
        "## 1859. 백만 장자 프로젝트\n",
        "\n",
        "'''\n",
        "25년 간의 수행 끝에 원재는 미래를 보는 능력을 갖게 되었다. 이 능력으로 원재는 사재기를 하려고 한다.\n",
        "\n",
        "다만 당국의 감시가 심해 한 번에 많은 양을 사재기 할 수 없다.\n",
        "\n",
        "다음과 같은 조건 하에서 사재기를 하여 최대한의 이득을 얻도록 도와주자.\n",
        "\n",
        "    1. 원재는 연속된 N일 동안의 물건의 매매가를 예측하여 알고 있다.\n",
        "    2. 당국의 감시망에 걸리지 않기 위해 하루에 최대 1만큼 구입할 수 있다.\n",
        "    3. 판매는 얼마든지 할 수 있다.\n",
        "\n",
        "예를 들어 3일 동안의 매매가가 1, 2, 3 이라면 처음 두 날에 원료를 구매하여 마지막 날에 팔면 3의 이익을 얻을 수 있다.\n",
        "\n",
        "\n",
        "[입력]\n",
        "\n",
        "첫 번째 줄에 테스트 케이스의 수 T가 주어진다.\n",
        "\n",
        "각 테스트 케이스 별로 첫 줄에는 자연수 N(2 ≤ N ≤ 1,000,000)이 주어지고,\n",
        "\n",
        "둘째 줄에는 각 날의 매매가를 나타내는 N개의 자연수들이 공백으로 구분되어 순서대로 주어진다.\n",
        "\n",
        "각 날의 매매가는 10,000이하이다.\n",
        "\n",
        "\n",
        "[출력]\n",
        "\n",
        "각 테스트 케이스마다 ‘#x’(x는 테스트케이스 번호를 의미하며 1부터 시작한다)를 출력하고, 최대 이익을 출력한다.\n",
        "\n",
        "\n",
        "[예제 풀이]\n",
        "\n",
        "1번째 케이스는 아무 것도 사지 않는 것이 최대 이익이다.\n",
        "\n",
        "2번째 케이스는 1,2일에 각각 한 개씩 사서 세 번째 날에 두 개를 팔면 10의 이익을 얻을 수 있다.\n",
        "'''"
      ]
    },
    {
      "cell_type": "markdown",
      "metadata": {
        "colab_type": "text",
        "id": "0ntdszXzK3yO"
      },
      "source": [
        "입력\n",
        "```\n",
        "3\n",
        "3\n",
        "10 7 6\n",
        "3\n",
        "3 5 9\n",
        "5\n",
        "1 1 3 1 2\n",
        "```\n",
        "\n",
        "출력\n",
        "```\n",
        "#1 0\n",
        "#2 10\n",
        "#3 5\n",
        "```"
      ]
    },
    {
      "cell_type": "code",
      "metadata": {
        "id": "sU_Mf1axNj0l",
        "colab_type": "code",
        "colab": {
          "base_uri": "https://localhost:8080/",
          "height": 90
        },
        "outputId": "765a003e-a831-48c0-a38e-07bf08361694"
      },
      "source": [
        "T = int(input())\n",
        "for t in range(1,T+1):\n",
        "    N = int(input())\n",
        "    numbers = list(map(int,input().split()))\n",
        "    \n",
        "    total = 0\n",
        "    max_idx = N-1\n",
        "    for i in range(N-1,0,-1):\n",
        "      if numbers[i-1] < numbers[max_idx]:\n",
        "        total += numbers[max_idx] - numbers[i-1]\n",
        "      elif numbers[i-1] >= numbers[max_idx]:\n",
        "        max_idx = i-1\n",
        "\n",
        "    \n",
        "    print('#{}'.format(t), total)"
      ],
      "execution_count": null,
      "outputs": [
        {
          "output_type": "stream",
          "text": [
            "1\n",
            "10\n",
            "629 3497 7202 7775 4325 3982 4784 8417 2156 1932\n",
            "#1 18937\n"
          ],
          "name": "stdout"
        }
      ]
    },
    {
      "cell_type": "code",
      "metadata": {
        "id": "uGWK01ApM4ds",
        "colab_type": "code",
        "colab": {
          "base_uri": "https://localhost:8080/",
          "height": 35
        },
        "outputId": "149cc4fe-b09c-43d9-931e-3446cc25ecbf"
      },
      "source": [
        "T = int(input())\n",
        "\n",
        "for t in range(1,T+1):\n",
        "    N = int(input())\n",
        "    numbers = list(map(int,input().split()))\n",
        "\n",
        "    result = 0\n",
        "    max_idx = []\n",
        "    max_val = max(numbers)\n",
        "    check = numbers.index(max_val)\n",
        "    n = len(numbers)\n",
        "    while check !=0 or n!=1:\n",
        "      max_idx.append(max_val)\n",
        "\n",
        "    check = numbers.index(max_val)\n",
        "    n = len(numbers)\n",
        "    while check !=0 or n!=1:\n",
        "        result += (max_val * check) - sum(numbers[:check])\n",
        "        if check+1 == n:\n",
        "            break\n",
        "        else:\n",
        "            numbers = numbers[check+1:]\n",
        "            max_val = max(numbers)\n",
        "            check = numbers.index(max_val)\n",
        "            n = len(numbers)\n",
        "\n",
        "\n",
        "    print('#{}'.format(t), result)"
      ],
      "execution_count": null,
      "outputs": [
        {
          "output_type": "stream",
          "text": [
            "[]\n"
          ],
          "name": "stdout"
        }
      ]
    },
    {
      "cell_type": "code",
      "metadata": {
        "id": "zj3jwPpXP0MN",
        "colab_type": "code",
        "colab": {}
      },
      "source": [
        "def millionaire(numbers):\n",
        "    result = 0\n",
        "    max_val = max(numbers)\n",
        "    check = numbers.index(max_val)\n",
        "    n = len(numbers)\n",
        "    s = sum(numbers[:check])\n",
        "    while check !=0 or n!=1:\n",
        "        result += (max_val * check) - s\n",
        "        if check+1 == n:\n",
        "            break\n",
        "        else:\n",
        "            numbers = numbers[check+1:]\n",
        "            max_val = max(numbers)\n",
        "            check = numbers.index(max_val)\n",
        "            n = len(numbers)\n",
        "            s = sum(numbers[:check])\n",
        "    return result"
      ],
      "execution_count": null,
      "outputs": []
    },
    {
      "cell_type": "code",
      "metadata": {
        "id": "COO1eAW2JRvG",
        "colab_type": "code",
        "colab": {}
      },
      "source": [
        "T = int(input())\n",
        "\n",
        "for t in range(1,T+1):\n",
        "    N = int(input())\n",
        "    numbers = list(map(int,input().split()))\n",
        "\n",
        "    result = 0\n",
        "    max_val = max(numbers)\n",
        "    check = numbers.index(max_val)\n",
        "    n = len(numbers)\n",
        "    while check !=0 or n!=1:\n",
        "        result += (max_val * check) - sum(numbers[:check])\n",
        "        if check+1 == n:\n",
        "            break\n",
        "        else:\n",
        "            numbers = numbers[check+1:]\n",
        "            max_val = max(numbers)\n",
        "            check = numbers.index(max_val)\n",
        "            n = len(numbers)\n",
        "\n",
        "\n",
        "    print('#{}'.format(t), result)"
      ],
      "execution_count": null,
      "outputs": []
    },
    {
      "cell_type": "code",
      "metadata": {
        "colab_type": "code",
        "id": "86Jv-zZAK3yR",
        "colab": {
          "base_uri": "https://localhost:8080/",
          "height": 322
        },
        "outputId": "33c07cbd-430c-4261-d8a9-c6e2045cfeef"
      },
      "source": [
        "T = int(input())\n",
        "\n",
        "for t in range(1,T+1):\n",
        "    N = int(input())\n",
        "    numbers = list(map(int,input().split()))\n",
        "\n",
        "    start = 0\n",
        "    result = 0\n",
        "    buy = 0\n",
        "    max_idx = 0\n",
        "    while start < N-1:\n",
        "        for i in range(start, N):\n",
        "            if numbers[i] >= numbers[max_idx]:\n",
        "                max_idx = i\n",
        "\n",
        "        if max_idx > start:\n",
        "            for k in range(start,max_idx):\n",
        "                buy += numbers[k]\n",
        "        elif max_idx == start:\n",
        "            break\n",
        "\n",
        "        result += numbers[max_idx] * (max_idx-start) - buy\n",
        "        buy = 0\n",
        "        start = max_idx + 1\n",
        "        max_idx = 0\n",
        "\n",
        "\n",
        "    print('#{}'.format(t), result)"
      ],
      "execution_count": null,
      "outputs": [
        {
          "output_type": "stream",
          "text": [
            "1\n",
            "1000\n",
            "8153 9896 9022 7489 8399 607 6466 4432 1502 3968 8333 7475 3792 84 7010 9694 7328 7354 4712 8409 6480 2643 8121 1951 3492 4420 8197 8607 7925 2167 717 3438 9200 6986 6104 6483 3620 9806 881 6858 5559 6553 8502 3554 2962 2325 7435 9279 464 7327 2549 9832 6595 8200 8720 7658 639 9992 9130 6467 8989 7958 2581 6600 7466 1473 1929 9775 2581 9770 9455 3718 4628 6807 9335 1898 1552 6530 5811 9569 4148 3384 6954 8913 114 6315 3686 9334 382 1392 8326 1008 3553 962 4957 4850 8231 2061 1185 1588 4305 2980 7564 1890 52 8747 943 1740 7593 7469 7370 2516 443 6007 9525 3299 412 7163 6699 3571 8976 7455 2217 3590 9343 4427 3220 1342 4584 4239 4496 5875 2601 1258 1449 3377 40 7428 8238 2455 3517 1653 4433 1768 1957 7307 6456 6878 2977 5368 1999 4882 3541 1826 3764 3269 1401 2098 8698 6763 1515 5413 1495 6523 4571 206 8357 5904 3310 1410 5844 7611 7484 410 3559 9262 1394 8949 1107 8546 2737 7987 4979 2306 4685 9291 5542 6542 9134 1094 2751 2089 898 5729 212 9964 8297 1823 720 5297 2280 4917 4338 7176 8183 7965 5740 3541 9555 3 3316 8256 6013 7611 3974 4931 2024 9609 6176 304 1151 4199 9876 8825 8893 3939 3737 4374 8323 6846 5819 1154 5157 814 6343 1886 1197 3100 1856 1709 3879 5479 2461 3014 9123 9744 5400 7094 9447 9020 9152 3963 9674 7829 8984 9930 5322 6665 2646 9385 9191 1353 7605 7110 4453 3356 243 7694 1854 2297 3075 9831 974 8720 1837 695 9845 7154 1673 5306 7865 5524 952 1231 5329 2353 6331 5692 8027 3413 3081 8438 5063 9858 7358 266 7801 6095 8374 4807 5051 4868 9478 9809 1304 7007 2308 2992 4499 9650 1706 8399 7822 3698 1015 6381 7267 2282 237 7119 6111 9926 3444 9788 9826 9944 3702 1888 6944 5655 3521 4489 6946 1131 6616 2445 1654 4434 3522 4850 2683 2542 5226 741 2486 6101 9661 8532 6961 3568 1903 276 4758 9772 5766 3259 3224 5836 3741 2054 9018 6325 5395 6949 5925 5056 7850 6378 2711 9083 8184 9790 2559 5945 8345 268 2322 7501 555 8772 1785 6675 1312 8665 2321 4920 3696 2516 4857 7149 948 3807 4535 1591 6284 3082 1268 898 3674 841 939 9593 3717 6003 6334 2768 6471 965 1121 1083 9103 2366 1149 5732 5776 7488 2238 3064 2736 6773 8070 2122 1274 6632 1560 7455 4748 1880 6061 5889 6954 5320 2034 6733 6345 1090 9640 8212 3717 3135 8211 7037 1483 2144 8668 1778 256 4345 4127 6398 8808 9328 5758 4566 4591 6371 6076 5805 4964 9279 8370 3309 441 8329 8125 3429 661 5241 1166 4870 9394 4314 9513 901 2687 6748 6614 9965 4222 1122 5748 2234 8311 2997 2193 9838 3172 7006 803 3711 2547 9136 5442 8343 3431 7420 2923 5843 3239 6314 7903 8901 2622 8535 5777 8275 3321 2177 1404 6261 2972 4093 8747 1562 8237 1698 4271 4836 504 9420 5101 4743 5433 3897 1277 8110 8645 9487 3324 246 3889 5524 5243 4258 7961 8389 3581 789 4619 4688 6477 3899 4025 9913 6134 1920 3179 1065 8697 4727 1051 7706 763 2500 2471 1068 5652 3266 8850 52 8000 6319 5411 4456 6626 3115 7764 1380 5517 3757 9764 679 3801 8526 9990 2967 3604 475 2416 249 1406 2199 6557 8954 7355 1991 6539 6505 3637 5268 8254 1066 9736 428 4107 6932 5332 6786 2766 2868 8159 5418 9652 9768 1968 9710 9905 6965 1269 475 8460 6802 2638 4516 9806 3002 2159 6222 4423 9326 5906 6419 8505 4721 7875 3615 9755 5674 9458 8246 1111 6149 4997 7788 76 1378 2483 3211 7964 2485 9930 8577 5583 6228 7657 5135 6671 2685 8151 5195 1338 7581 9546 9903 8836 7801 8433 2359 1986 7193 7147 8119 2927 1528 5310 9747 9323 8294 6305 7798 9399 3654 1649 5020 714 8688 1088 7735 607 4464 6417 685 6565 5781 5166 4216 5885 8131 258 2437 6528 2337 1376 6454 7143 9580 6618 256 2049 322 2378 8413 3056 1016 6636 7788 7836 2149 114 8828 6254 6741 4767 164 7638 4966 2669 8270 8646 4542 9399 9368 9925 1235 7151 274 4350 9361 8473 1106 4782 4952 8142 6035 7337 2460 8059 4049 8709 6995 4847 4974 2381 3226 2224 3809 4943 3025 1527 8610 8495 2298 4655 5567 5698 5790 8778 9995 9908 9016 2300 2633 3650 2312 5582 8853 6097 8881 8620 6427 3925 9355 5240 5070 7050 4178 8133 6739 319 4533 5388 9299 5558 7720 122 861 7766 5922 1456 7601 8377 144 8882 8966 8046 7104 8009 6149 8696 2327 7585 8555 6413 4859 5963 8139 3591 4970 8860 7834 5911 6274 4876 145 3677 2214 5545 1743 609 8879 7937 3940 4782 4553 1531 9495 6817 6994 3471 8865 2590 3886 1593 7504 2172 1493 8954 9221 8132 3060 5623 982 4181 9064 3736 4365 2371 7894 4458 3175 1956 2310 4254 1429 6274 995 7816 126 3883 4364 6352 2715 9140 9335 180 2362 7874 4345 8612 8045 8607 6654 7221 6520 5211 4807 6703 6613 2552 6263 4351 8291 7725 8774 9542 4643 6181 3342 1719 9130 9629 3953 157 6803 3001 3040 8643 1338 6671 4773 906 3889 2778 7931 6678 5919 8952 8656 49 3547 1261 7434 951 7318 8430 7391 3993 7823 4503 1963 2346 4972 2406 3854 661 3031 989 5851 8228 5263 1412 7499 9178 819 2436 3672 571 4795 5549 1554 3967 9215 289 2925 6019 6141 2583 3969 119 5015 281 1993 7200 8835 518 3781 6616 5865 9920 8504 3545 7881 783 8490 214 2082 2285 1943 307 1164 9976 3933 3047 6095 3812 6978 8593 4714 8422 8797 9536 3565 9466 6936 26 5359 7181 581 4182 3144 4179 9589 6994 232 1794 6322 6333 4719 4246 2646\n"
          ],
          "name": "stdout"
        },
        {
          "output_type": "error",
          "ename": "KeyboardInterrupt",
          "evalue": "ignored",
          "traceback": [
            "\u001b[0;31m---------------------------------------------------------------------------\u001b[0m",
            "\u001b[0;31mKeyboardInterrupt\u001b[0m                         Traceback (most recent call last)",
            "\u001b[0;32m<ipython-input-8-10d7a6862181>\u001b[0m in \u001b[0;36m<module>\u001b[0;34m()\u001b[0m\n\u001b[1;32m     10\u001b[0m     \u001b[0mmax_idx\u001b[0m \u001b[0;34m=\u001b[0m \u001b[0;36m0\u001b[0m\u001b[0;34m\u001b[0m\u001b[0;34m\u001b[0m\u001b[0m\n\u001b[1;32m     11\u001b[0m     \u001b[0;32mwhile\u001b[0m \u001b[0mstart\u001b[0m \u001b[0;34m<\u001b[0m \u001b[0mN\u001b[0m\u001b[0;34m-\u001b[0m\u001b[0;36m1\u001b[0m\u001b[0;34m:\u001b[0m\u001b[0;34m\u001b[0m\u001b[0;34m\u001b[0m\u001b[0m\n\u001b[0;32m---> 12\u001b[0;31m         \u001b[0;32mfor\u001b[0m \u001b[0mi\u001b[0m \u001b[0;32min\u001b[0m \u001b[0mrange\u001b[0m\u001b[0;34m(\u001b[0m\u001b[0mstart\u001b[0m\u001b[0;34m,\u001b[0m \u001b[0mN\u001b[0m\u001b[0;34m)\u001b[0m\u001b[0;34m:\u001b[0m\u001b[0;34m\u001b[0m\u001b[0;34m\u001b[0m\u001b[0m\n\u001b[0m\u001b[1;32m     13\u001b[0m             \u001b[0;32mif\u001b[0m \u001b[0mnumbers\u001b[0m\u001b[0;34m[\u001b[0m\u001b[0mi\u001b[0m\u001b[0;34m]\u001b[0m \u001b[0;34m>=\u001b[0m \u001b[0mnumbers\u001b[0m\u001b[0;34m[\u001b[0m\u001b[0mmax_idx\u001b[0m\u001b[0;34m]\u001b[0m\u001b[0;34m:\u001b[0m\u001b[0;34m\u001b[0m\u001b[0;34m\u001b[0m\u001b[0m\n\u001b[1;32m     14\u001b[0m                 \u001b[0mmax_idx\u001b[0m \u001b[0;34m=\u001b[0m \u001b[0mi\u001b[0m\u001b[0;34m\u001b[0m\u001b[0;34m\u001b[0m\u001b[0m\n",
            "\u001b[0;31mKeyboardInterrupt\u001b[0m: "
          ]
        }
      ]
    }
  ]
}